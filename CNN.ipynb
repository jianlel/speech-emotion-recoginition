{
 "cells": [
  {
   "cell_type": "code",
   "execution_count": null,
   "id": "c966aee9-623c-4653-b448-0b635832da00",
   "metadata": {},
   "outputs": [],
   "source": []
  },
  {
   "cell_type": "code",
   "execution_count": 1,
   "id": "4e5222f7-9003-4c3c-bfdc-a0ed4f710685",
   "metadata": {},
   "outputs": [],
   "source": [
    "import librosa\n",
    "import os\n",
    "import numpy as np\n",
    "import pandas as pd\n",
    "import torch\n",
    "import torch.nn as nn\n",
    "from datasets import load_dataset, Audio, DatasetDict, ClassLabel\n",
    "from torch.utils.data import DataLoader\n",
    "import tqdm"
   ]
  },
  {
   "cell_type": "code",
   "execution_count": 2,
   "id": "6c89fa58-c88e-42e1-b2b1-88a3a5d888b9",
   "metadata": {},
   "outputs": [],
   "source": [
    "def adjust_labels(batch):\n",
    "    batch[\"emotion\"] = [sentiment for sentiment in batch[\"emotion\"]]\n",
    "    return batch"
   ]
  },
  {
   "cell_type": "code",
   "execution_count": 3,
   "id": "03a4e1a5-a8b1-4297-af1a-319f9f3ff7d0",
   "metadata": {},
   "outputs": [
    {
     "data": {
      "application/vnd.jupyter.widget-view+json": {
       "model_id": "c4e70e68e3c24c1ca0deb356f53f01df",
       "version_major": 2,
       "version_minor": 0
      },
      "text/plain": [
       "Resolving data files:   0%|          | 0/1441 [00:00<?, ?it/s]"
      ]
     },
     "metadata": {},
     "output_type": "display_data"
    }
   ],
   "source": [
    "english_dataset = load_dataset(\"./dataset/ravd\", data_dir=\"./\", split=\"train\")\n",
    "features = english_dataset.features.copy()\n",
    "features[\"emotion\"] = ClassLabel(names=['happy','neutral','angry','sad','fearful','disgust','calm','surprised'])\n",
    "english_dataset = english_dataset.map(adjust_labels, batched=True, features=features)\n",
    "english_dataset = english_dataset.train_test_split(test_size=0.2,stratify_by_column=\"emotion\")\n",
    "test_data_split = english_dataset[\"test\"].train_test_split(test_size=0.5,stratify_by_column=\"emotion\")\n",
    "english_dataset = DatasetDict({\n",
    "    \"train\": english_dataset[\"train\"],\n",
    "    \"test\": test_data_split[\"test\"],\n",
    "    \"val\": test_data_split[\"train\"]\n",
    "})\n",
    "\n"
   ]
  },
  {
   "cell_type": "code",
   "execution_count": 4,
   "id": "e1c1172c-77d2-45db-a611-62c2512d2864",
   "metadata": {},
   "outputs": [],
   "source": [
    "def feature_extraction(examples):\n",
    "    audio_arrays = [[x[\"array\"], x[\"sampling_rate\"]] for x in examples[\"audio\"]]\n",
    "    # extract the features from the audio\n",
    "    inputs = []\n",
    "    for audio in audio_arrays:\n",
    "        # Assuming audio[0] is your audio array and audio[1] is the sampling rate\n",
    "        audio_duration = len(audio[0]) / audio[1]  # Calculate the duration of the audio in seconds\n",
    "        \n",
    "        # Set the maximum duration you desire\n",
    "        max_duration = 3  # For example, 3 seconds\n",
    "        \n",
    "        # If the audio duration exceeds the maximum duration, trim it\n",
    "        if audio_duration >= max_duration:\n",
    "            audio[0] = audio[0][:int(max_duration * audio[1])]\n",
    "        \n",
    "        else:\n",
    "            samples_to_pad = int((max_duration - audio_duration) * audio[1])\n",
    "            \n",
    "            # Pad the audio with zeros\n",
    "            padded_audio = np.pad(audio[0], (0, samples_to_pad), 'constant')\n",
    "            audio[0] = padded_audio\n",
    "\n",
    "        mfcc = librosa.feature.mfcc(y=audio[0], sr=16000, n_mfcc=128)\n",
    "        inputs.append([mfcc])\n",
    "    return {'mfcc': inputs}\n",
    "\n"
   ]
  },
  {
   "cell_type": "code",
   "execution_count": 5,
   "id": "ac228d17-9166-4163-9608-c95653cea472",
   "metadata": {},
   "outputs": [
    {
     "data": {
      "application/vnd.jupyter.widget-view+json": {
       "model_id": "eeee8eccfa994e76a7ef5d3be78c62fe",
       "version_major": 2,
       "version_minor": 0
      },
      "text/plain": [
       "Map:   0%|          | 0/1152 [00:00<?, ? examples/s]"
      ]
     },
     "metadata": {},
     "output_type": "display_data"
    },
    {
     "data": {
      "application/vnd.jupyter.widget-view+json": {
       "model_id": "adddb0dded9046799a622bb3e38f9c35",
       "version_major": 2,
       "version_minor": 0
      },
      "text/plain": [
       "Map:   0%|          | 0/144 [00:00<?, ? examples/s]"
      ]
     },
     "metadata": {},
     "output_type": "display_data"
    },
    {
     "data": {
      "application/vnd.jupyter.widget-view+json": {
       "model_id": "adb4d30ff5e047fca14d40d4d6c616e1",
       "version_major": 2,
       "version_minor": 0
      },
      "text/plain": [
       "Map:   0%|          | 0/144 [00:00<?, ? examples/s]"
      ]
     },
     "metadata": {},
     "output_type": "display_data"
    },
    {
     "data": {
      "text/plain": [
       "DatasetDict({\n",
       "    train: Dataset({\n",
       "        features: ['emotion', 'mfcc'],\n",
       "        num_rows: 1152\n",
       "    })\n",
       "    test: Dataset({\n",
       "        features: ['emotion', 'mfcc'],\n",
       "        num_rows: 144\n",
       "    })\n",
       "    val: Dataset({\n",
       "        features: ['emotion', 'mfcc'],\n",
       "        num_rows: 144\n",
       "    })\n",
       "})"
      ]
     },
     "execution_count": 5,
     "metadata": {},
     "output_type": "execute_result"
    }
   ],
   "source": [
    "english_dataset = english_dataset.map(feature_extraction, remove_columns=\"audio\", batched=True)\n",
    "\n",
    "english_dataset"
   ]
  },
  {
   "cell_type": "code",
   "execution_count": 6,
   "id": "41406535-ce97-4e8f-aee5-db58d6bc0ce2",
   "metadata": {},
   "outputs": [],
   "source": [
    "english_dataset = english_dataset.rename_column(\"emotion\", \"label\")"
   ]
  },
  {
   "cell_type": "code",
   "execution_count": 7,
   "id": "b49ffd0f-aa41-4b64-84d8-000f4f198610",
   "metadata": {},
   "outputs": [],
   "source": [
    "class CNN(nn.Module):\n",
    "\n",
    "    def __init__(self, no_features,no_labels):\n",
    "        super().__init__()\n",
    "        self.cnn_stack = nn.Sequential(\n",
    "            # first layer\n",
    "            nn.BatchNorm2d(no_features),\n",
    "            nn.Conv2d(in_channels=1,out_channels=64,kernel_size=3,stride=1,padding=1),\n",
    "            nn.BatchNorm2d(64),\n",
    "            nn.ELU(),\n",
    "            nn.MaxPool2d(kernel_size=2, stride=2),\n",
    "            nn.Dropout(),\n",
    "            # second layer\n",
    "            \n",
    "            nn.Conv2d(in_channels=64,out_channels=128,kernel_size=3,stride=1,padding=1),\n",
    "            nn.BatchNorm2d(128),\n",
    "            nn.ELU(),\n",
    "            nn.MaxPool2d(kernel_size=2, stride=2),\n",
    "            nn.Dropout(),\n",
    "\n",
    "            # third layer\n",
    "            nn.Conv2d(in_channels=128,out_channels=128,kernel_size=3,stride=1,padding=1),\n",
    "            nn.BatchNorm2d(128),\n",
    "            nn.ELU(),\n",
    "            nn.MaxPool2d(kernel_size=2,  stride=2),\n",
    "            nn.Dropout(),\n",
    "\n",
    "            # fourth layer\n",
    "            nn.Conv2d(in_channels=128,out_channels=128,kernel_size=3,stride=1,padding=1),\n",
    "            nn.BatchNorm2d(128),\n",
    "            nn.ELU(),\n",
    "            nn.MaxPool2d(kernel_size=(3,5),  stride=(3,5)),\n",
    "            nn.Dropout(),\n",
    "\n",
    "            # fifth layer\n",
    "            nn.Conv2d(in_channels=128,out_channels=64,kernel_size=3,stride=1,padding=2),\n",
    "            nn.BatchNorm2d(64),\n",
    "            nn.ELU(),\n",
    "            nn.MaxPool2d(kernel_size=(3,5),  stride=(3,5)),\n",
    "            nn.Dropout(),\n",
    "            \n",
    "           \n",
    "            # fully connected layer\n",
    "            nn.Flatten(),\n",
    "            nn.Linear(in_features=128,out_features=256),\n",
    "            nn.ELU(),\n",
    "            nn.Dropout(),            \n",
    "\n",
    "            # output layer\n",
    "            nn.Linear(in_features=256,out_features=no_labels)\n",
    "        )\n",
    "\n",
    "    \n",
    "    def forward(self, x):\n",
    "        return self.cnn_stack(x)\n",
    "\n",
    "\n",
    "    def predict(self, x, labels, device):\n",
    "        x = x.to(device)\n",
    "        labels = labels.to(device)\n",
    "        preds = self.forward(x)\n",
    "        total = labels.shape[0]\n",
    "        correct = 0\n",
    "        _, predicted = torch.max(preds, 1)\n",
    "        correct += (predicted == labels).sum().item()\n",
    "        return predicted , correct / total\n",
    "        \n",
    "\n"
   ]
  },
  {
   "cell_type": "code",
   "execution_count": 8,
   "id": "ca613b07-fa06-4def-b920-8fa6ef3daaba",
   "metadata": {},
   "outputs": [],
   "source": [
    "\n",
    "def train_single_epoch(model,dataloader,loss_fn,optimizer,device):\n",
    "    for batch in dataloader:\n",
    "        mfcc = batch['mfcc'].to(device)\n",
    "        label = batch['label'].to(device)\n",
    "        logits=model(mfcc)\n",
    "        loss=loss_fn(logits.float(),label.long())\n",
    "        optimizer.zero_grad()\n",
    "        loss.backward()\n",
    "        optimizer.step()\n",
    "    with torch.no_grad():\n",
    "        _, acc = model.predict(val[\"mfcc\"], val[\"label\"], device)\n",
    "    print(f\"loss:{loss.item()}\", \"val accuracy:\", acc)\n",
    "    \n",
    "def train(model,dataloader,loss_fn,optimizer,device,epochs):\n",
    "    for i in tqdm.tqdm(range(epochs)):\n",
    "        print(f\"epoch:{i+1}\")\n",
    "        train_single_epoch(model,dataloader,loss_fn,optimizer,device)\n",
    "        print('-------------------------------------------')\n",
    "    print('Finished Training')"
   ]
  },
  {
   "cell_type": "code",
   "execution_count": 9,
   "id": "35beaa21-d0fc-4711-aef4-9e99c913cbf5",
   "metadata": {},
   "outputs": [
    {
     "name": "stderr",
     "output_type": "stream",
     "text": [
      "  0%|                                                                                          | 0/200 [00:00<?, ?it/s]"
     ]
    },
    {
     "name": "stdout",
     "output_type": "stream",
     "text": [
      "epoch:1\n"
     ]
    },
    {
     "name": "stderr",
     "output_type": "stream",
     "text": [
      "  0%|▍                                                                                 | 1/200 [00:13<45:08, 13.61s/it]"
     ]
    },
    {
     "name": "stdout",
     "output_type": "stream",
     "text": [
      "loss:2.193697929382324 val accuracy: 0.13194444444444445\n",
      "-------------------------------------------\n",
      "epoch:2\n"
     ]
    },
    {
     "name": "stderr",
     "output_type": "stream",
     "text": [
      "  1%|▊                                                                                 | 2/200 [00:24<38:56, 11.80s/it]"
     ]
    },
    {
     "name": "stdout",
     "output_type": "stream",
     "text": [
      "loss:2.158590078353882 val accuracy: 0.16666666666666666\n",
      "-------------------------------------------\n",
      "epoch:3\n"
     ]
    },
    {
     "name": "stderr",
     "output_type": "stream",
     "text": [
      "  2%|█▏                                                                                | 3/200 [00:34<36:14, 11.04s/it]"
     ]
    },
    {
     "name": "stdout",
     "output_type": "stream",
     "text": [
      "loss:2.0900886058807373 val accuracy: 0.18055555555555555\n",
      "-------------------------------------------\n",
      "epoch:4\n"
     ]
    },
    {
     "name": "stderr",
     "output_type": "stream",
     "text": [
      "  2%|█▋                                                                                | 4/200 [00:45<36:03, 11.04s/it]"
     ]
    },
    {
     "name": "stdout",
     "output_type": "stream",
     "text": [
      "loss:1.9819583892822266 val accuracy: 0.18055555555555555\n",
      "-------------------------------------------\n",
      "epoch:5\n"
     ]
    },
    {
     "name": "stderr",
     "output_type": "stream",
     "text": [
      "  2%|██                                                                                | 5/200 [00:54<34:17, 10.55s/it]"
     ]
    },
    {
     "name": "stdout",
     "output_type": "stream",
     "text": [
      "loss:1.867439866065979 val accuracy: 0.1875\n",
      "-------------------------------------------\n",
      "epoch:6\n"
     ]
    },
    {
     "name": "stderr",
     "output_type": "stream",
     "text": [
      "  3%|██▍                                                                               | 6/200 [01:05<34:30, 10.67s/it]"
     ]
    },
    {
     "name": "stdout",
     "output_type": "stream",
     "text": [
      "loss:1.835744023323059 val accuracy: 0.2569444444444444\n",
      "-------------------------------------------\n",
      "epoch:7\n"
     ]
    },
    {
     "name": "stderr",
     "output_type": "stream",
     "text": [
      "  4%|██▊                                                                               | 7/200 [01:15<33:37, 10.45s/it]"
     ]
    },
    {
     "name": "stdout",
     "output_type": "stream",
     "text": [
      "loss:1.8637731075286865 val accuracy: 0.2569444444444444\n",
      "-------------------------------------------\n",
      "epoch:8\n"
     ]
    },
    {
     "name": "stderr",
     "output_type": "stream",
     "text": [
      "  4%|███▎                                                                              | 8/200 [01:26<33:23, 10.43s/it]"
     ]
    },
    {
     "name": "stdout",
     "output_type": "stream",
     "text": [
      "loss:1.849812626838684 val accuracy: 0.2847222222222222\n",
      "-------------------------------------------\n",
      "epoch:9\n"
     ]
    },
    {
     "name": "stderr",
     "output_type": "stream",
     "text": [
      "  4%|███▋                                                                              | 9/200 [01:36<32:47, 10.30s/it]"
     ]
    },
    {
     "name": "stdout",
     "output_type": "stream",
     "text": [
      "loss:1.757735252380371 val accuracy: 0.2569444444444444\n",
      "-------------------------------------------\n",
      "epoch:10\n"
     ]
    },
    {
     "name": "stderr",
     "output_type": "stream",
     "text": [
      "  5%|████                                                                             | 10/200 [01:45<31:33,  9.96s/it]"
     ]
    },
    {
     "name": "stdout",
     "output_type": "stream",
     "text": [
      "loss:1.8325200080871582 val accuracy: 0.3194444444444444\n",
      "-------------------------------------------\n",
      "epoch:11\n"
     ]
    },
    {
     "name": "stderr",
     "output_type": "stream",
     "text": [
      "  6%|████▍                                                                            | 11/200 [01:54<30:07,  9.56s/it]"
     ]
    },
    {
     "name": "stdout",
     "output_type": "stream",
     "text": [
      "loss:1.6367592811584473 val accuracy: 0.2916666666666667\n",
      "-------------------------------------------\n",
      "epoch:12\n"
     ]
    },
    {
     "name": "stderr",
     "output_type": "stream",
     "text": [
      "  6%|████▊                                                                            | 12/200 [02:03<29:27,  9.40s/it]"
     ]
    },
    {
     "name": "stdout",
     "output_type": "stream",
     "text": [
      "loss:1.6997966766357422 val accuracy: 0.2152777777777778\n",
      "-------------------------------------------\n",
      "epoch:13\n"
     ]
    },
    {
     "name": "stderr",
     "output_type": "stream",
     "text": [
      "  6%|█████▎                                                                           | 13/200 [02:14<30:39,  9.84s/it]"
     ]
    },
    {
     "name": "stdout",
     "output_type": "stream",
     "text": [
      "loss:1.792111873626709 val accuracy: 0.2638888888888889\n",
      "-------------------------------------------\n",
      "epoch:14\n"
     ]
    },
    {
     "name": "stderr",
     "output_type": "stream",
     "text": [
      "  7%|█████▋                                                                           | 14/200 [02:24<31:04, 10.02s/it]"
     ]
    },
    {
     "name": "stdout",
     "output_type": "stream",
     "text": [
      "loss:1.6511802673339844 val accuracy: 0.2708333333333333\n",
      "-------------------------------------------\n",
      "epoch:15\n"
     ]
    },
    {
     "name": "stderr",
     "output_type": "stream",
     "text": [
      "  8%|██████                                                                           | 15/200 [02:34<30:53, 10.02s/it]"
     ]
    },
    {
     "name": "stdout",
     "output_type": "stream",
     "text": [
      "loss:1.6389762163162231 val accuracy: 0.2569444444444444\n",
      "-------------------------------------------\n",
      "epoch:16\n"
     ]
    },
    {
     "name": "stderr",
     "output_type": "stream",
     "text": [
      "  8%|██████▍                                                                          | 16/200 [02:42<28:32,  9.30s/it]"
     ]
    },
    {
     "name": "stdout",
     "output_type": "stream",
     "text": [
      "loss:1.7267255783081055 val accuracy: 0.25\n",
      "-------------------------------------------\n",
      "epoch:17\n"
     ]
    },
    {
     "name": "stderr",
     "output_type": "stream",
     "text": [
      "  8%|██████▉                                                                          | 17/200 [02:52<28:56,  9.49s/it]"
     ]
    },
    {
     "name": "stdout",
     "output_type": "stream",
     "text": [
      "loss:1.6914901733398438 val accuracy: 0.3125\n",
      "-------------------------------------------\n",
      "epoch:18\n"
     ]
    },
    {
     "name": "stderr",
     "output_type": "stream",
     "text": [
      "  9%|███████▎                                                                         | 18/200 [03:00<27:24,  9.04s/it]"
     ]
    },
    {
     "name": "stdout",
     "output_type": "stream",
     "text": [
      "loss:1.564047932624817 val accuracy: 0.3125\n",
      "-------------------------------------------\n",
      "epoch:19\n"
     ]
    },
    {
     "name": "stderr",
     "output_type": "stream",
     "text": [
      " 10%|███████▋                                                                         | 19/200 [03:09<28:01,  9.29s/it]"
     ]
    },
    {
     "name": "stdout",
     "output_type": "stream",
     "text": [
      "loss:1.5540128946304321 val accuracy: 0.3055555555555556\n",
      "-------------------------------------------\n",
      "epoch:20\n"
     ]
    },
    {
     "name": "stderr",
     "output_type": "stream",
     "text": [
      " 10%|████████                                                                         | 20/200 [03:19<28:27,  9.49s/it]"
     ]
    },
    {
     "name": "stdout",
     "output_type": "stream",
     "text": [
      "loss:1.6574115753173828 val accuracy: 0.3125\n",
      "-------------------------------------------\n",
      "epoch:21\n"
     ]
    },
    {
     "name": "stderr",
     "output_type": "stream",
     "text": [
      " 10%|████████▌                                                                        | 21/200 [03:31<30:14, 10.14s/it]"
     ]
    },
    {
     "name": "stdout",
     "output_type": "stream",
     "text": [
      "loss:1.639676809310913 val accuracy: 0.3402777777777778\n",
      "-------------------------------------------\n",
      "epoch:22\n"
     ]
    },
    {
     "name": "stderr",
     "output_type": "stream",
     "text": [
      " 11%|████████▉                                                                        | 22/200 [03:38<27:27,  9.26s/it]"
     ]
    },
    {
     "name": "stdout",
     "output_type": "stream",
     "text": [
      "loss:1.6015030145645142 val accuracy: 0.2777777777777778\n",
      "-------------------------------------------\n",
      "epoch:23\n"
     ]
    },
    {
     "name": "stderr",
     "output_type": "stream",
     "text": [
      " 12%|█████████▎                                                                       | 23/200 [03:45<25:20,  8.59s/it]"
     ]
    },
    {
     "name": "stdout",
     "output_type": "stream",
     "text": [
      "loss:1.6920758485794067 val accuracy: 0.3125\n",
      "-------------------------------------------\n",
      "epoch:24\n"
     ]
    },
    {
     "name": "stderr",
     "output_type": "stream",
     "text": [
      " 12%|█████████▋                                                                       | 24/200 [03:56<26:51,  9.16s/it]"
     ]
    },
    {
     "name": "stdout",
     "output_type": "stream",
     "text": [
      "loss:1.6441503763198853 val accuracy: 0.2916666666666667\n",
      "-------------------------------------------\n",
      "epoch:25\n"
     ]
    },
    {
     "name": "stderr",
     "output_type": "stream",
     "text": [
      " 12%|██████████▏                                                                      | 25/200 [04:05<26:46,  9.18s/it]"
     ]
    },
    {
     "name": "stdout",
     "output_type": "stream",
     "text": [
      "loss:1.5502738952636719 val accuracy: 0.2986111111111111\n",
      "-------------------------------------------\n",
      "epoch:26\n"
     ]
    },
    {
     "name": "stderr",
     "output_type": "stream",
     "text": [
      " 13%|██████████▌                                                                      | 26/200 [04:14<26:38,  9.19s/it]"
     ]
    },
    {
     "name": "stdout",
     "output_type": "stream",
     "text": [
      "loss:1.4831429719924927 val accuracy: 0.3611111111111111\n",
      "-------------------------------------------\n",
      "epoch:27\n"
     ]
    },
    {
     "name": "stderr",
     "output_type": "stream",
     "text": [
      " 14%|██████████▉                                                                      | 27/200 [04:24<27:08,  9.42s/it]"
     ]
    },
    {
     "name": "stdout",
     "output_type": "stream",
     "text": [
      "loss:1.5967012643814087 val accuracy: 0.3194444444444444\n",
      "-------------------------------------------\n",
      "epoch:28\n"
     ]
    },
    {
     "name": "stderr",
     "output_type": "stream",
     "text": [
      " 14%|███████████▎                                                                     | 28/200 [04:33<26:26,  9.22s/it]"
     ]
    },
    {
     "name": "stdout",
     "output_type": "stream",
     "text": [
      "loss:1.5945777893066406 val accuracy: 0.3263888888888889\n",
      "-------------------------------------------\n",
      "epoch:29\n"
     ]
    },
    {
     "name": "stderr",
     "output_type": "stream",
     "text": [
      " 14%|███████████▋                                                                     | 29/200 [04:44<27:40,  9.71s/it]"
     ]
    },
    {
     "name": "stdout",
     "output_type": "stream",
     "text": [
      "loss:1.5313756465911865 val accuracy: 0.3263888888888889\n",
      "-------------------------------------------\n",
      "epoch:30\n"
     ]
    },
    {
     "name": "stderr",
     "output_type": "stream",
     "text": [
      " 15%|████████████▏                                                                    | 30/200 [04:53<27:08,  9.58s/it]"
     ]
    },
    {
     "name": "stdout",
     "output_type": "stream",
     "text": [
      "loss:1.6707509756088257 val accuracy: 0.3194444444444444\n",
      "-------------------------------------------\n",
      "epoch:31\n"
     ]
    },
    {
     "name": "stderr",
     "output_type": "stream",
     "text": [
      " 16%|████████████▌                                                                    | 31/200 [05:02<26:43,  9.49s/it]"
     ]
    },
    {
     "name": "stdout",
     "output_type": "stream",
     "text": [
      "loss:1.622269868850708 val accuracy: 0.3402777777777778\n",
      "-------------------------------------------\n",
      "epoch:32\n"
     ]
    },
    {
     "name": "stderr",
     "output_type": "stream",
     "text": [
      " 16%|████████████▉                                                                    | 32/200 [05:13<27:19,  9.76s/it]"
     ]
    },
    {
     "name": "stdout",
     "output_type": "stream",
     "text": [
      "loss:1.5527242422103882 val accuracy: 0.3333333333333333\n",
      "-------------------------------------------\n",
      "epoch:33\n"
     ]
    },
    {
     "name": "stderr",
     "output_type": "stream",
     "text": [
      " 16%|█████████████▎                                                                   | 33/200 [05:23<27:22,  9.84s/it]"
     ]
    },
    {
     "name": "stdout",
     "output_type": "stream",
     "text": [
      "loss:1.6128956079483032 val accuracy: 0.3472222222222222\n",
      "-------------------------------------------\n",
      "epoch:34\n"
     ]
    },
    {
     "name": "stderr",
     "output_type": "stream",
     "text": [
      " 17%|█████████████▊                                                                   | 34/200 [05:33<27:35,  9.97s/it]"
     ]
    },
    {
     "name": "stdout",
     "output_type": "stream",
     "text": [
      "loss:1.4291912317276 val accuracy: 0.3472222222222222\n",
      "-------------------------------------------\n",
      "epoch:35\n"
     ]
    },
    {
     "name": "stderr",
     "output_type": "stream",
     "text": [
      " 18%|██████████████▏                                                                  | 35/200 [05:43<27:25,  9.97s/it]"
     ]
    },
    {
     "name": "stdout",
     "output_type": "stream",
     "text": [
      "loss:1.5153650045394897 val accuracy: 0.3263888888888889\n",
      "-------------------------------------------\n",
      "epoch:36\n"
     ]
    },
    {
     "name": "stderr",
     "output_type": "stream",
     "text": [
      " 18%|██████████████▌                                                                  | 36/200 [05:52<26:45,  9.79s/it]"
     ]
    },
    {
     "name": "stdout",
     "output_type": "stream",
     "text": [
      "loss:1.420735239982605 val accuracy: 0.3611111111111111\n",
      "-------------------------------------------\n",
      "epoch:37\n"
     ]
    },
    {
     "name": "stderr",
     "output_type": "stream",
     "text": [
      " 18%|██████████████▉                                                                  | 37/200 [06:01<25:29,  9.38s/it]"
     ]
    },
    {
     "name": "stdout",
     "output_type": "stream",
     "text": [
      "loss:1.5252671241760254 val accuracy: 0.3472222222222222\n",
      "-------------------------------------------\n",
      "epoch:38\n"
     ]
    },
    {
     "name": "stderr",
     "output_type": "stream",
     "text": [
      " 19%|███████████████▍                                                                 | 38/200 [06:09<24:45,  9.17s/it]"
     ]
    },
    {
     "name": "stdout",
     "output_type": "stream",
     "text": [
      "loss:1.4602633714675903 val accuracy: 0.2986111111111111\n",
      "-------------------------------------------\n",
      "epoch:39\n"
     ]
    },
    {
     "name": "stderr",
     "output_type": "stream",
     "text": [
      " 20%|███████████████▊                                                                 | 39/200 [06:20<25:25,  9.48s/it]"
     ]
    },
    {
     "name": "stdout",
     "output_type": "stream",
     "text": [
      "loss:1.4573025703430176 val accuracy: 0.375\n",
      "-------------------------------------------\n",
      "epoch:40\n"
     ]
    },
    {
     "name": "stderr",
     "output_type": "stream",
     "text": [
      " 20%|████████████████▏                                                                | 40/200 [06:28<24:07,  9.04s/it]"
     ]
    },
    {
     "name": "stdout",
     "output_type": "stream",
     "text": [
      "loss:1.4291839599609375 val accuracy: 0.3194444444444444\n",
      "-------------------------------------------\n",
      "epoch:41\n"
     ]
    },
    {
     "name": "stderr",
     "output_type": "stream",
     "text": [
      " 20%|████████████████▌                                                                | 41/200 [06:36<23:06,  8.72s/it]"
     ]
    },
    {
     "name": "stdout",
     "output_type": "stream",
     "text": [
      "loss:1.4943238496780396 val accuracy: 0.375\n",
      "-------------------------------------------\n",
      "epoch:42\n"
     ]
    },
    {
     "name": "stderr",
     "output_type": "stream",
     "text": [
      " 21%|█████████████████                                                                | 42/200 [06:45<23:43,  9.01s/it]"
     ]
    },
    {
     "name": "stdout",
     "output_type": "stream",
     "text": [
      "loss:1.4730969667434692 val accuracy: 0.3611111111111111\n",
      "-------------------------------------------\n",
      "epoch:43\n"
     ]
    },
    {
     "name": "stderr",
     "output_type": "stream",
     "text": [
      " 22%|█████████████████▍                                                               | 43/200 [06:55<24:12,  9.25s/it]"
     ]
    },
    {
     "name": "stdout",
     "output_type": "stream",
     "text": [
      "loss:1.3376895189285278 val accuracy: 0.3333333333333333\n",
      "-------------------------------------------\n",
      "epoch:44\n"
     ]
    },
    {
     "name": "stderr",
     "output_type": "stream",
     "text": [
      " 22%|█████████████████▊                                                               | 44/200 [07:04<23:55,  9.20s/it]"
     ]
    },
    {
     "name": "stdout",
     "output_type": "stream",
     "text": [
      "loss:1.2873011827468872 val accuracy: 0.3611111111111111\n",
      "-------------------------------------------\n",
      "epoch:45\n"
     ]
    },
    {
     "name": "stderr",
     "output_type": "stream",
     "text": [
      " 22%|██████████████████▏                                                              | 45/200 [07:15<25:06,  9.72s/it]"
     ]
    },
    {
     "name": "stdout",
     "output_type": "stream",
     "text": [
      "loss:1.2742538452148438 val accuracy: 0.3541666666666667\n",
      "-------------------------------------------\n",
      "epoch:46\n"
     ]
    },
    {
     "name": "stderr",
     "output_type": "stream",
     "text": [
      " 23%|██████████████████▋                                                              | 46/200 [07:24<24:34,  9.57s/it]"
     ]
    },
    {
     "name": "stdout",
     "output_type": "stream",
     "text": [
      "loss:1.158565640449524 val accuracy: 0.4236111111111111\n",
      "-------------------------------------------\n",
      "epoch:47\n"
     ]
    },
    {
     "name": "stderr",
     "output_type": "stream",
     "text": [
      " 24%|███████████████████                                                              | 47/200 [07:35<25:05,  9.84s/it]"
     ]
    },
    {
     "name": "stdout",
     "output_type": "stream",
     "text": [
      "loss:1.3359729051589966 val accuracy: 0.4236111111111111\n",
      "-------------------------------------------\n",
      "epoch:48\n"
     ]
    },
    {
     "name": "stderr",
     "output_type": "stream",
     "text": [
      " 24%|███████████████████▍                                                             | 48/200 [07:42<23:15,  9.18s/it]"
     ]
    },
    {
     "name": "stdout",
     "output_type": "stream",
     "text": [
      "loss:1.239753246307373 val accuracy: 0.3819444444444444\n",
      "-------------------------------------------\n",
      "epoch:49\n"
     ]
    },
    {
     "name": "stderr",
     "output_type": "stream",
     "text": [
      " 24%|███████████████████▊                                                             | 49/200 [07:52<23:43,  9.42s/it]"
     ]
    },
    {
     "name": "stdout",
     "output_type": "stream",
     "text": [
      "loss:1.4088726043701172 val accuracy: 0.3958333333333333\n",
      "-------------------------------------------\n",
      "epoch:50\n"
     ]
    },
    {
     "name": "stderr",
     "output_type": "stream",
     "text": [
      " 25%|████████████████████▎                                                            | 50/200 [08:03<24:16,  9.71s/it]"
     ]
    },
    {
     "name": "stdout",
     "output_type": "stream",
     "text": [
      "loss:1.3228079080581665 val accuracy: 0.3611111111111111\n",
      "-------------------------------------------\n",
      "epoch:51\n"
     ]
    },
    {
     "name": "stderr",
     "output_type": "stream",
     "text": [
      " 26%|████████████████████▋                                                            | 51/200 [08:12<23:37,  9.51s/it]"
     ]
    },
    {
     "name": "stdout",
     "output_type": "stream",
     "text": [
      "loss:1.4170078039169312 val accuracy: 0.3819444444444444\n",
      "-------------------------------------------\n",
      "epoch:52\n"
     ]
    },
    {
     "name": "stderr",
     "output_type": "stream",
     "text": [
      " 26%|█████████████████████                                                            | 52/200 [08:22<24:08,  9.79s/it]"
     ]
    },
    {
     "name": "stdout",
     "output_type": "stream",
     "text": [
      "loss:1.3690167665481567 val accuracy: 0.4444444444444444\n",
      "-------------------------------------------\n",
      "epoch:53\n"
     ]
    },
    {
     "name": "stderr",
     "output_type": "stream",
     "text": [
      " 26%|█████████████████████▍                                                           | 53/200 [08:33<24:31, 10.01s/it]"
     ]
    },
    {
     "name": "stdout",
     "output_type": "stream",
     "text": [
      "loss:1.170941948890686 val accuracy: 0.4166666666666667\n",
      "-------------------------------------------\n",
      "epoch:54\n"
     ]
    },
    {
     "name": "stderr",
     "output_type": "stream",
     "text": [
      " 27%|█████████████████████▊                                                           | 54/200 [08:43<24:32, 10.08s/it]"
     ]
    },
    {
     "name": "stdout",
     "output_type": "stream",
     "text": [
      "loss:1.5002504587173462 val accuracy: 0.4027777777777778\n",
      "-------------------------------------------\n",
      "epoch:55\n"
     ]
    },
    {
     "name": "stderr",
     "output_type": "stream",
     "text": [
      " 28%|██████████████████████▎                                                          | 55/200 [08:52<23:45,  9.83s/it]"
     ]
    },
    {
     "name": "stdout",
     "output_type": "stream",
     "text": [
      "loss:1.3524361848831177 val accuracy: 0.4305555555555556\n",
      "-------------------------------------------\n",
      "epoch:56\n"
     ]
    },
    {
     "name": "stderr",
     "output_type": "stream",
     "text": [
      " 28%|██████████████████████▋                                                          | 56/200 [09:00<22:04,  9.19s/it]"
     ]
    },
    {
     "name": "stdout",
     "output_type": "stream",
     "text": [
      "loss:1.2685805559158325 val accuracy: 0.4166666666666667\n",
      "-------------------------------------------\n",
      "epoch:57\n"
     ]
    },
    {
     "name": "stderr",
     "output_type": "stream",
     "text": [
      " 28%|███████████████████████                                                          | 57/200 [09:09<21:54,  9.19s/it]"
     ]
    },
    {
     "name": "stdout",
     "output_type": "stream",
     "text": [
      "loss:1.43596613407135 val accuracy: 0.3888888888888889\n",
      "-------------------------------------------\n",
      "epoch:58\n"
     ]
    },
    {
     "name": "stderr",
     "output_type": "stream",
     "text": [
      " 29%|███████████████████████▍                                                         | 58/200 [09:19<21:55,  9.26s/it]"
     ]
    },
    {
     "name": "stdout",
     "output_type": "stream",
     "text": [
      "loss:1.3234748840332031 val accuracy: 0.4166666666666667\n",
      "-------------------------------------------\n",
      "epoch:59\n"
     ]
    },
    {
     "name": "stderr",
     "output_type": "stream",
     "text": [
      " 30%|███████████████████████▉                                                         | 59/200 [09:27<21:11,  9.02s/it]"
     ]
    },
    {
     "name": "stdout",
     "output_type": "stream",
     "text": [
      "loss:1.406119704246521 val accuracy: 0.4513888888888889\n",
      "-------------------------------------------\n",
      "epoch:60\n"
     ]
    },
    {
     "name": "stderr",
     "output_type": "stream",
     "text": [
      " 30%|████████████████████████▎                                                        | 60/200 [09:38<22:04,  9.46s/it]"
     ]
    },
    {
     "name": "stdout",
     "output_type": "stream",
     "text": [
      "loss:1.2191078662872314 val accuracy: 0.3888888888888889\n",
      "-------------------------------------------\n",
      "epoch:61\n"
     ]
    },
    {
     "name": "stderr",
     "output_type": "stream",
     "text": [
      " 30%|████████████████████████▋                                                        | 61/200 [09:47<21:44,  9.39s/it]"
     ]
    },
    {
     "name": "stdout",
     "output_type": "stream",
     "text": [
      "loss:1.2484647035598755 val accuracy: 0.3611111111111111\n",
      "-------------------------------------------\n",
      "epoch:62\n"
     ]
    },
    {
     "name": "stderr",
     "output_type": "stream",
     "text": [
      " 31%|█████████████████████████                                                        | 62/200 [09:57<22:03,  9.59s/it]"
     ]
    },
    {
     "name": "stdout",
     "output_type": "stream",
     "text": [
      "loss:1.3520288467407227 val accuracy: 0.4236111111111111\n",
      "-------------------------------------------\n",
      "epoch:63\n"
     ]
    },
    {
     "name": "stderr",
     "output_type": "stream",
     "text": [
      " 32%|█████████████████████████▌                                                       | 63/200 [10:06<21:41,  9.50s/it]"
     ]
    },
    {
     "name": "stdout",
     "output_type": "stream",
     "text": [
      "loss:1.328694224357605 val accuracy: 0.4652777777777778\n",
      "-------------------------------------------\n",
      "epoch:64\n"
     ]
    },
    {
     "name": "stderr",
     "output_type": "stream",
     "text": [
      " 32%|█████████████████████████▉                                                       | 64/200 [10:13<19:27,  8.59s/it]"
     ]
    },
    {
     "name": "stdout",
     "output_type": "stream",
     "text": [
      "loss:1.259227991104126 val accuracy: 0.4097222222222222\n",
      "-------------------------------------------\n",
      "epoch:65\n"
     ]
    },
    {
     "name": "stderr",
     "output_type": "stream",
     "text": [
      " 32%|██████████████████████████▎                                                      | 65/200 [10:20<18:34,  8.25s/it]"
     ]
    },
    {
     "name": "stdout",
     "output_type": "stream",
     "text": [
      "loss:1.2338799238204956 val accuracy: 0.3958333333333333\n",
      "-------------------------------------------\n",
      "epoch:66\n"
     ]
    },
    {
     "name": "stderr",
     "output_type": "stream",
     "text": [
      " 33%|██████████████████████████▋                                                      | 66/200 [10:28<17:51,  8.00s/it]"
     ]
    },
    {
     "name": "stdout",
     "output_type": "stream",
     "text": [
      "loss:1.2765312194824219 val accuracy: 0.375\n",
      "-------------------------------------------\n",
      "epoch:67\n"
     ]
    },
    {
     "name": "stderr",
     "output_type": "stream",
     "text": [
      " 34%|███████████████████████████▏                                                     | 67/200 [10:35<17:18,  7.81s/it]"
     ]
    },
    {
     "name": "stdout",
     "output_type": "stream",
     "text": [
      "loss:1.1773337125778198 val accuracy: 0.4027777777777778\n",
      "-------------------------------------------\n",
      "epoch:68\n"
     ]
    },
    {
     "name": "stderr",
     "output_type": "stream",
     "text": [
      " 34%|███████████████████████████▌                                                     | 68/200 [10:45<18:25,  8.38s/it]"
     ]
    },
    {
     "name": "stdout",
     "output_type": "stream",
     "text": [
      "loss:1.2704203128814697 val accuracy: 0.4513888888888889\n",
      "-------------------------------------------\n",
      "epoch:69\n"
     ]
    },
    {
     "name": "stderr",
     "output_type": "stream",
     "text": [
      " 34%|███████████████████████████▉                                                     | 69/200 [10:55<19:41,  9.02s/it]"
     ]
    },
    {
     "name": "stdout",
     "output_type": "stream",
     "text": [
      "loss:1.1971113681793213 val accuracy: 0.4513888888888889\n",
      "-------------------------------------------\n",
      "epoch:70\n"
     ]
    },
    {
     "name": "stderr",
     "output_type": "stream",
     "text": [
      " 35%|████████████████████████████▎                                                    | 70/200 [11:05<20:07,  9.29s/it]"
     ]
    },
    {
     "name": "stdout",
     "output_type": "stream",
     "text": [
      "loss:1.2065688371658325 val accuracy: 0.3680555555555556\n",
      "-------------------------------------------\n",
      "epoch:71\n"
     ]
    },
    {
     "name": "stderr",
     "output_type": "stream",
     "text": [
      " 36%|████████████████████████████▊                                                    | 71/200 [11:16<20:45,  9.65s/it]"
     ]
    },
    {
     "name": "stdout",
     "output_type": "stream",
     "text": [
      "loss:1.2248584032058716 val accuracy: 0.3958333333333333\n",
      "-------------------------------------------\n",
      "epoch:72\n"
     ]
    },
    {
     "name": "stderr",
     "output_type": "stream",
     "text": [
      " 36%|█████████████████████████████▏                                                   | 72/200 [11:25<20:10,  9.46s/it]"
     ]
    },
    {
     "name": "stdout",
     "output_type": "stream",
     "text": [
      "loss:1.3988678455352783 val accuracy: 0.4236111111111111\n",
      "-------------------------------------------\n",
      "epoch:73\n"
     ]
    },
    {
     "name": "stderr",
     "output_type": "stream",
     "text": [
      " 36%|█████████████████████████████▌                                                   | 73/200 [11:32<18:59,  8.97s/it]"
     ]
    },
    {
     "name": "stdout",
     "output_type": "stream",
     "text": [
      "loss:1.1643327474594116 val accuracy: 0.4513888888888889\n",
      "-------------------------------------------\n",
      "epoch:74\n"
     ]
    },
    {
     "name": "stderr",
     "output_type": "stream",
     "text": [
      " 37%|█████████████████████████████▉                                                   | 74/200 [11:42<19:24,  9.25s/it]"
     ]
    },
    {
     "name": "stdout",
     "output_type": "stream",
     "text": [
      "loss:1.1474151611328125 val accuracy: 0.4375\n",
      "-------------------------------------------\n",
      "epoch:75\n"
     ]
    },
    {
     "name": "stderr",
     "output_type": "stream",
     "text": [
      " 38%|██████████████████████████████▍                                                  | 75/200 [11:53<20:15,  9.72s/it]"
     ]
    },
    {
     "name": "stdout",
     "output_type": "stream",
     "text": [
      "loss:1.424522042274475 val accuracy: 0.4861111111111111\n",
      "-------------------------------------------\n",
      "epoch:76\n"
     ]
    },
    {
     "name": "stderr",
     "output_type": "stream",
     "text": [
      " 38%|██████████████████████████████▊                                                  | 76/200 [12:02<19:51,  9.61s/it]"
     ]
    },
    {
     "name": "stdout",
     "output_type": "stream",
     "text": [
      "loss:1.1264699697494507 val accuracy: 0.4791666666666667\n",
      "-------------------------------------------\n",
      "epoch:77\n"
     ]
    },
    {
     "name": "stderr",
     "output_type": "stream",
     "text": [
      " 38%|███████████████████████████████▏                                                 | 77/200 [12:13<20:13,  9.87s/it]"
     ]
    },
    {
     "name": "stdout",
     "output_type": "stream",
     "text": [
      "loss:1.2210289239883423 val accuracy: 0.3888888888888889\n",
      "-------------------------------------------\n",
      "epoch:78\n"
     ]
    },
    {
     "name": "stderr",
     "output_type": "stream",
     "text": [
      " 39%|███████████████████████████████▌                                                 | 78/200 [12:22<19:37,  9.65s/it]"
     ]
    },
    {
     "name": "stdout",
     "output_type": "stream",
     "text": [
      "loss:1.373197078704834 val accuracy: 0.4166666666666667\n",
      "-------------------------------------------\n",
      "epoch:79\n"
     ]
    },
    {
     "name": "stderr",
     "output_type": "stream",
     "text": [
      " 40%|███████████████████████████████▉                                                 | 79/200 [12:32<19:28,  9.66s/it]"
     ]
    },
    {
     "name": "stdout",
     "output_type": "stream",
     "text": [
      "loss:0.9512869119644165 val accuracy: 0.4375\n",
      "-------------------------------------------\n",
      "epoch:80\n"
     ]
    },
    {
     "name": "stderr",
     "output_type": "stream",
     "text": [
      " 40%|████████████████████████████████▍                                                | 80/200 [12:43<20:02, 10.02s/it]"
     ]
    },
    {
     "name": "stdout",
     "output_type": "stream",
     "text": [
      "loss:1.1132136583328247 val accuracy: 0.3263888888888889\n",
      "-------------------------------------------\n",
      "epoch:81\n"
     ]
    },
    {
     "name": "stderr",
     "output_type": "stream",
     "text": [
      " 40%|████████████████████████████████▊                                                | 81/200 [12:53<19:53, 10.03s/it]"
     ]
    },
    {
     "name": "stdout",
     "output_type": "stream",
     "text": [
      "loss:1.1036574840545654 val accuracy: 0.4166666666666667\n",
      "-------------------------------------------\n",
      "epoch:82\n"
     ]
    },
    {
     "name": "stderr",
     "output_type": "stream",
     "text": [
      " 41%|█████████████████████████████████▏                                               | 82/200 [13:01<18:49,  9.58s/it]"
     ]
    },
    {
     "name": "stdout",
     "output_type": "stream",
     "text": [
      "loss:1.2161582708358765 val accuracy: 0.4097222222222222\n",
      "-------------------------------------------\n",
      "epoch:83\n"
     ]
    },
    {
     "name": "stderr",
     "output_type": "stream",
     "text": [
      " 42%|█████████████████████████████████▌                                               | 83/200 [13:11<19:03,  9.77s/it]"
     ]
    },
    {
     "name": "stdout",
     "output_type": "stream",
     "text": [
      "loss:1.1577517986297607 val accuracy: 0.4513888888888889\n",
      "-------------------------------------------\n",
      "epoch:84\n"
     ]
    },
    {
     "name": "stderr",
     "output_type": "stream",
     "text": [
      " 42%|██████████████████████████████████                                               | 84/200 [13:21<18:36,  9.62s/it]"
     ]
    },
    {
     "name": "stdout",
     "output_type": "stream",
     "text": [
      "loss:1.243301510810852 val accuracy: 0.4097222222222222\n",
      "-------------------------------------------\n",
      "epoch:85\n"
     ]
    },
    {
     "name": "stderr",
     "output_type": "stream",
     "text": [
      " 42%|██████████████████████████████████▍                                              | 85/200 [13:31<18:35,  9.70s/it]"
     ]
    },
    {
     "name": "stdout",
     "output_type": "stream",
     "text": [
      "loss:1.3745471239089966 val accuracy: 0.4444444444444444\n",
      "-------------------------------------------\n",
      "epoch:86\n"
     ]
    },
    {
     "name": "stderr",
     "output_type": "stream",
     "text": [
      " 43%|██████████████████████████████████▊                                              | 86/200 [13:39<17:48,  9.38s/it]"
     ]
    },
    {
     "name": "stdout",
     "output_type": "stream",
     "text": [
      "loss:1.164570927619934 val accuracy: 0.4513888888888889\n",
      "-------------------------------------------\n",
      "epoch:87\n"
     ]
    },
    {
     "name": "stderr",
     "output_type": "stream",
     "text": [
      " 44%|███████████████████████████████████▏                                             | 87/200 [13:48<17:16,  9.17s/it]"
     ]
    },
    {
     "name": "stdout",
     "output_type": "stream",
     "text": [
      "loss:1.0312602519989014 val accuracy: 0.4583333333333333\n",
      "-------------------------------------------\n",
      "epoch:88\n"
     ]
    },
    {
     "name": "stderr",
     "output_type": "stream",
     "text": [
      " 44%|███████████████████████████████████▋                                             | 88/200 [13:56<16:42,  8.95s/it]"
     ]
    },
    {
     "name": "stdout",
     "output_type": "stream",
     "text": [
      "loss:1.0352051258087158 val accuracy: 0.4791666666666667\n",
      "-------------------------------------------\n",
      "epoch:89\n"
     ]
    },
    {
     "name": "stderr",
     "output_type": "stream",
     "text": [
      " 44%|████████████████████████████████████                                             | 89/200 [14:06<17:01,  9.20s/it]"
     ]
    },
    {
     "name": "stdout",
     "output_type": "stream",
     "text": [
      "loss:1.2650355100631714 val accuracy: 0.4722222222222222\n",
      "-------------------------------------------\n",
      "epoch:90\n"
     ]
    },
    {
     "name": "stderr",
     "output_type": "stream",
     "text": [
      " 45%|████████████████████████████████████▍                                            | 90/200 [14:14<16:24,  8.95s/it]"
     ]
    },
    {
     "name": "stdout",
     "output_type": "stream",
     "text": [
      "loss:1.0109221935272217 val accuracy: 0.4652777777777778\n",
      "-------------------------------------------\n",
      "epoch:91\n"
     ]
    },
    {
     "name": "stderr",
     "output_type": "stream",
     "text": [
      " 46%|████████████████████████████████████▊                                            | 91/200 [14:22<15:24,  8.48s/it]"
     ]
    },
    {
     "name": "stdout",
     "output_type": "stream",
     "text": [
      "loss:1.0859185457229614 val accuracy: 0.5069444444444444\n",
      "-------------------------------------------\n",
      "epoch:92\n"
     ]
    },
    {
     "name": "stderr",
     "output_type": "stream",
     "text": [
      " 46%|█████████████████████████████████████▎                                           | 92/200 [14:30<14:49,  8.24s/it]"
     ]
    },
    {
     "name": "stdout",
     "output_type": "stream",
     "text": [
      "loss:0.8442809581756592 val accuracy: 0.4583333333333333\n",
      "-------------------------------------------\n",
      "epoch:93\n"
     ]
    },
    {
     "name": "stderr",
     "output_type": "stream",
     "text": [
      " 46%|█████████████████████████████████████▋                                           | 93/200 [14:39<15:13,  8.54s/it]"
     ]
    },
    {
     "name": "stdout",
     "output_type": "stream",
     "text": [
      "loss:1.1010218858718872 val accuracy: 0.3888888888888889\n",
      "-------------------------------------------\n",
      "epoch:94\n"
     ]
    },
    {
     "name": "stderr",
     "output_type": "stream",
     "text": [
      " 47%|██████████████████████████████████████                                           | 94/200 [14:47<14:51,  8.41s/it]"
     ]
    },
    {
     "name": "stdout",
     "output_type": "stream",
     "text": [
      "loss:1.152632713317871 val accuracy: 0.4930555555555556\n",
      "-------------------------------------------\n",
      "epoch:95\n"
     ]
    },
    {
     "name": "stderr",
     "output_type": "stream",
     "text": [
      " 48%|██████████████████████████████████████▍                                          | 95/200 [14:57<15:24,  8.81s/it]"
     ]
    },
    {
     "name": "stdout",
     "output_type": "stream",
     "text": [
      "loss:1.0909883975982666 val accuracy: 0.4513888888888889\n",
      "-------------------------------------------\n",
      "epoch:96\n"
     ]
    },
    {
     "name": "stderr",
     "output_type": "stream",
     "text": [
      " 48%|██████████████████████████████████████▉                                          | 96/200 [15:07<15:52,  9.16s/it]"
     ]
    },
    {
     "name": "stdout",
     "output_type": "stream",
     "text": [
      "loss:1.0136719942092896 val accuracy: 0.4652777777777778\n",
      "-------------------------------------------\n",
      "epoch:97\n"
     ]
    },
    {
     "name": "stderr",
     "output_type": "stream",
     "text": [
      " 48%|███████████████████████████████████████▎                                         | 97/200 [15:17<16:15,  9.47s/it]"
     ]
    },
    {
     "name": "stdout",
     "output_type": "stream",
     "text": [
      "loss:1.1965701580047607 val accuracy: 0.3888888888888889\n",
      "-------------------------------------------\n",
      "epoch:98\n"
     ]
    },
    {
     "name": "stderr",
     "output_type": "stream",
     "text": [
      " 49%|███████████████████████████████████████▋                                         | 98/200 [15:25<15:40,  9.22s/it]"
     ]
    },
    {
     "name": "stdout",
     "output_type": "stream",
     "text": [
      "loss:1.115700364112854 val accuracy: 0.4375\n",
      "-------------------------------------------\n",
      "epoch:99\n"
     ]
    },
    {
     "name": "stderr",
     "output_type": "stream",
     "text": [
      " 50%|████████████████████████████████████████                                         | 99/200 [15:34<15:09,  9.00s/it]"
     ]
    },
    {
     "name": "stdout",
     "output_type": "stream",
     "text": [
      "loss:0.9427205324172974 val accuracy: 0.5138888888888888\n",
      "-------------------------------------------\n",
      "epoch:100\n"
     ]
    },
    {
     "name": "stderr",
     "output_type": "stream",
     "text": [
      " 50%|████████████████████████████████████████                                        | 100/200 [15:43<14:50,  8.91s/it]"
     ]
    },
    {
     "name": "stdout",
     "output_type": "stream",
     "text": [
      "loss:1.1944811344146729 val accuracy: 0.4305555555555556\n",
      "-------------------------------------------\n",
      "epoch:101\n"
     ]
    },
    {
     "name": "stderr",
     "output_type": "stream",
     "text": [
      " 50%|████████████████████████████████████████▍                                       | 101/200 [15:53<15:23,  9.33s/it]"
     ]
    },
    {
     "name": "stdout",
     "output_type": "stream",
     "text": [
      "loss:1.1699256896972656 val accuracy: 0.4375\n",
      "-------------------------------------------\n",
      "epoch:102\n"
     ]
    },
    {
     "name": "stderr",
     "output_type": "stream",
     "text": [
      " 51%|████████████████████████████████████████▊                                       | 102/200 [16:05<16:35, 10.16s/it]"
     ]
    },
    {
     "name": "stdout",
     "output_type": "stream",
     "text": [
      "loss:0.9994992613792419 val accuracy: 0.4652777777777778\n",
      "-------------------------------------------\n",
      "epoch:103\n"
     ]
    },
    {
     "name": "stderr",
     "output_type": "stream",
     "text": [
      " 52%|█████████████████████████████████████████▏                                      | 103/200 [16:15<16:15, 10.05s/it]"
     ]
    },
    {
     "name": "stdout",
     "output_type": "stream",
     "text": [
      "loss:0.8319822549819946 val accuracy: 0.5069444444444444\n",
      "-------------------------------------------\n",
      "epoch:104\n"
     ]
    },
    {
     "name": "stderr",
     "output_type": "stream",
     "text": [
      " 52%|█████████████████████████████████████████▌                                      | 104/200 [16:24<15:38,  9.78s/it]"
     ]
    },
    {
     "name": "stdout",
     "output_type": "stream",
     "text": [
      "loss:0.9987337589263916 val accuracy: 0.4513888888888889\n",
      "-------------------------------------------\n",
      "epoch:105\n"
     ]
    },
    {
     "name": "stderr",
     "output_type": "stream",
     "text": [
      " 52%|██████████████████████████████████████████                                      | 105/200 [16:34<15:46,  9.97s/it]"
     ]
    },
    {
     "name": "stdout",
     "output_type": "stream",
     "text": [
      "loss:0.936680018901825 val accuracy: 0.5069444444444444\n",
      "-------------------------------------------\n",
      "epoch:106\n"
     ]
    },
    {
     "name": "stderr",
     "output_type": "stream",
     "text": [
      " 53%|██████████████████████████████████████████▍                                     | 106/200 [16:43<15:00,  9.58s/it]"
     ]
    },
    {
     "name": "stdout",
     "output_type": "stream",
     "text": [
      "loss:0.8674426078796387 val accuracy: 0.4375\n",
      "-------------------------------------------\n",
      "epoch:107\n"
     ]
    },
    {
     "name": "stderr",
     "output_type": "stream",
     "text": [
      " 54%|██████████████████████████████████████████▊                                     | 107/200 [16:53<15:03,  9.71s/it]"
     ]
    },
    {
     "name": "stdout",
     "output_type": "stream",
     "text": [
      "loss:0.983897864818573 val accuracy: 0.4097222222222222\n",
      "-------------------------------------------\n",
      "epoch:108\n"
     ]
    },
    {
     "name": "stderr",
     "output_type": "stream",
     "text": [
      " 54%|███████████████████████████████████████████▏                                    | 108/200 [17:01<14:11,  9.25s/it]"
     ]
    },
    {
     "name": "stdout",
     "output_type": "stream",
     "text": [
      "loss:0.8337375521659851 val accuracy: 0.4652777777777778\n",
      "-------------------------------------------\n",
      "epoch:109\n"
     ]
    },
    {
     "name": "stderr",
     "output_type": "stream",
     "text": [
      " 55%|███████████████████████████████████████████▌                                    | 109/200 [17:12<14:33,  9.59s/it]"
     ]
    },
    {
     "name": "stdout",
     "output_type": "stream",
     "text": [
      "loss:1.0271074771881104 val accuracy: 0.4930555555555556\n",
      "-------------------------------------------\n",
      "epoch:110\n"
     ]
    },
    {
     "name": "stderr",
     "output_type": "stream",
     "text": [
      " 55%|████████████████████████████████████████████                                    | 110/200 [17:20<14:03,  9.37s/it]"
     ]
    },
    {
     "name": "stdout",
     "output_type": "stream",
     "text": [
      "loss:0.860984742641449 val accuracy: 0.4236111111111111\n",
      "-------------------------------------------\n",
      "epoch:111\n"
     ]
    },
    {
     "name": "stderr",
     "output_type": "stream",
     "text": [
      " 56%|████████████████████████████████████████████▍                                   | 111/200 [17:32<14:47,  9.98s/it]"
     ]
    },
    {
     "name": "stdout",
     "output_type": "stream",
     "text": [
      "loss:0.8426238894462585 val accuracy: 0.4375\n",
      "-------------------------------------------\n",
      "epoch:112\n"
     ]
    },
    {
     "name": "stderr",
     "output_type": "stream",
     "text": [
      " 56%|████████████████████████████████████████████▊                                   | 112/200 [17:40<14:00,  9.55s/it]"
     ]
    },
    {
     "name": "stdout",
     "output_type": "stream",
     "text": [
      "loss:1.020883321762085 val accuracy: 0.3819444444444444\n",
      "-------------------------------------------\n",
      "epoch:113\n"
     ]
    },
    {
     "name": "stderr",
     "output_type": "stream",
     "text": [
      " 56%|█████████████████████████████████████████████▏                                  | 113/200 [17:50<13:45,  9.48s/it]"
     ]
    },
    {
     "name": "stdout",
     "output_type": "stream",
     "text": [
      "loss:0.8854776620864868 val accuracy: 0.4791666666666667\n",
      "-------------------------------------------\n",
      "epoch:114\n"
     ]
    },
    {
     "name": "stderr",
     "output_type": "stream",
     "text": [
      " 57%|█████████████████████████████████████████████▌                                  | 114/200 [18:00<14:02,  9.79s/it]"
     ]
    },
    {
     "name": "stdout",
     "output_type": "stream",
     "text": [
      "loss:1.0458333492279053 val accuracy: 0.4722222222222222\n",
      "-------------------------------------------\n",
      "epoch:115\n"
     ]
    },
    {
     "name": "stderr",
     "output_type": "stream",
     "text": [
      " 57%|██████████████████████████████████████████████                                  | 115/200 [18:10<13:57,  9.85s/it]"
     ]
    },
    {
     "name": "stdout",
     "output_type": "stream",
     "text": [
      "loss:0.8090651035308838 val accuracy: 0.4791666666666667\n",
      "-------------------------------------------\n",
      "epoch:116\n"
     ]
    },
    {
     "name": "stderr",
     "output_type": "stream",
     "text": [
      " 58%|██████████████████████████████████████████████▍                                 | 116/200 [18:20<13:47,  9.85s/it]"
     ]
    },
    {
     "name": "stdout",
     "output_type": "stream",
     "text": [
      "loss:0.9739440083503723 val accuracy: 0.4583333333333333\n",
      "-------------------------------------------\n",
      "epoch:117\n"
     ]
    },
    {
     "name": "stderr",
     "output_type": "stream",
     "text": [
      " 58%|██████████████████████████████████████████████▊                                 | 117/200 [18:31<13:52, 10.03s/it]"
     ]
    },
    {
     "name": "stdout",
     "output_type": "stream",
     "text": [
      "loss:0.9394795894622803 val accuracy: 0.4861111111111111\n",
      "-------------------------------------------\n",
      "epoch:118\n"
     ]
    },
    {
     "name": "stderr",
     "output_type": "stream",
     "text": [
      " 59%|███████████████████████████████████████████████▏                                | 118/200 [18:41<13:41, 10.02s/it]"
     ]
    },
    {
     "name": "stdout",
     "output_type": "stream",
     "text": [
      "loss:0.8152031898498535 val accuracy: 0.5694444444444444\n",
      "-------------------------------------------\n",
      "epoch:119\n"
     ]
    },
    {
     "name": "stderr",
     "output_type": "stream",
     "text": [
      " 60%|███████████████████████████████████████████████▌                                | 119/200 [18:50<13:26,  9.96s/it]"
     ]
    },
    {
     "name": "stdout",
     "output_type": "stream",
     "text": [
      "loss:0.9379451274871826 val accuracy: 0.5208333333333334\n",
      "-------------------------------------------\n",
      "epoch:120\n"
     ]
    },
    {
     "name": "stderr",
     "output_type": "stream",
     "text": [
      " 60%|████████████████████████████████████████████████                                | 120/200 [19:00<12:58,  9.73s/it]"
     ]
    },
    {
     "name": "stdout",
     "output_type": "stream",
     "text": [
      "loss:0.8186203241348267 val accuracy: 0.4513888888888889\n",
      "-------------------------------------------\n",
      "epoch:121\n"
     ]
    },
    {
     "name": "stderr",
     "output_type": "stream",
     "text": [
      " 60%|████████████████████████████████████████████████▍                               | 121/200 [19:09<12:48,  9.72s/it]"
     ]
    },
    {
     "name": "stdout",
     "output_type": "stream",
     "text": [
      "loss:0.9152781963348389 val accuracy: 0.4097222222222222\n",
      "-------------------------------------------\n",
      "epoch:122\n"
     ]
    },
    {
     "name": "stderr",
     "output_type": "stream",
     "text": [
      " 61%|████████████████████████████████████████████████▊                               | 122/200 [19:20<12:53,  9.91s/it]"
     ]
    },
    {
     "name": "stdout",
     "output_type": "stream",
     "text": [
      "loss:1.0231647491455078 val accuracy: 0.4791666666666667\n",
      "-------------------------------------------\n",
      "epoch:123\n"
     ]
    },
    {
     "name": "stderr",
     "output_type": "stream",
     "text": [
      " 62%|█████████████████████████████████████████████████▏                              | 123/200 [19:30<12:46,  9.96s/it]"
     ]
    },
    {
     "name": "stdout",
     "output_type": "stream",
     "text": [
      "loss:0.7345085144042969 val accuracy: 0.4930555555555556\n",
      "-------------------------------------------\n",
      "epoch:124\n"
     ]
    },
    {
     "name": "stderr",
     "output_type": "stream",
     "text": [
      " 62%|█████████████████████████████████████████████████▌                              | 124/200 [19:39<12:20,  9.74s/it]"
     ]
    },
    {
     "name": "stdout",
     "output_type": "stream",
     "text": [
      "loss:0.9192891120910645 val accuracy: 0.4722222222222222\n",
      "-------------------------------------------\n",
      "epoch:125\n"
     ]
    },
    {
     "name": "stderr",
     "output_type": "stream",
     "text": [
      " 62%|██████████████████████████████████████████████████                              | 125/200 [19:51<13:02, 10.43s/it]"
     ]
    },
    {
     "name": "stdout",
     "output_type": "stream",
     "text": [
      "loss:0.6451437473297119 val accuracy: 0.4375\n",
      "-------------------------------------------\n",
      "epoch:126\n"
     ]
    },
    {
     "name": "stderr",
     "output_type": "stream",
     "text": [
      " 63%|██████████████████████████████████████████████████▍                             | 126/200 [20:01<12:52, 10.44s/it]"
     ]
    },
    {
     "name": "stdout",
     "output_type": "stream",
     "text": [
      "loss:0.7648372650146484 val accuracy: 0.4375\n",
      "-------------------------------------------\n",
      "epoch:127\n"
     ]
    },
    {
     "name": "stderr",
     "output_type": "stream",
     "text": [
      " 64%|██████████████████████████████████████████████████▊                             | 127/200 [20:12<12:46, 10.50s/it]"
     ]
    },
    {
     "name": "stdout",
     "output_type": "stream",
     "text": [
      "loss:0.9393277168273926 val accuracy: 0.4791666666666667\n",
      "-------------------------------------------\n",
      "epoch:128\n"
     ]
    },
    {
     "name": "stderr",
     "output_type": "stream",
     "text": [
      " 64%|███████████████████████████████████████████████████▏                            | 128/200 [20:25<13:20, 11.11s/it]"
     ]
    },
    {
     "name": "stdout",
     "output_type": "stream",
     "text": [
      "loss:0.913554847240448 val accuracy: 0.4583333333333333\n",
      "-------------------------------------------\n",
      "epoch:129\n"
     ]
    },
    {
     "name": "stderr",
     "output_type": "stream",
     "text": [
      " 64%|███████████████████████████████████████████████████▌                            | 129/200 [20:36<13:11, 11.15s/it]"
     ]
    },
    {
     "name": "stdout",
     "output_type": "stream",
     "text": [
      "loss:0.7292511463165283 val accuracy: 0.4930555555555556\n",
      "-------------------------------------------\n",
      "epoch:130\n"
     ]
    },
    {
     "name": "stderr",
     "output_type": "stream",
     "text": [
      " 65%|████████████████████████████████████████████████████                            | 130/200 [20:46<12:42, 10.90s/it]"
     ]
    },
    {
     "name": "stdout",
     "output_type": "stream",
     "text": [
      "loss:0.9292930364608765 val accuracy: 0.4513888888888889\n",
      "-------------------------------------------\n",
      "epoch:131\n"
     ]
    },
    {
     "name": "stderr",
     "output_type": "stream",
     "text": [
      " 66%|████████████████████████████████████████████████████▍                           | 131/200 [20:56<12:16, 10.67s/it]"
     ]
    },
    {
     "name": "stdout",
     "output_type": "stream",
     "text": [
      "loss:0.7770256996154785 val accuracy: 0.4722222222222222\n",
      "-------------------------------------------\n",
      "epoch:132\n"
     ]
    },
    {
     "name": "stderr",
     "output_type": "stream",
     "text": [
      " 66%|████████████████████████████████████████████████████▊                           | 132/200 [21:07<12:08, 10.72s/it]"
     ]
    },
    {
     "name": "stdout",
     "output_type": "stream",
     "text": [
      "loss:0.7348064184188843 val accuracy: 0.5138888888888888\n",
      "-------------------------------------------\n",
      "epoch:133\n"
     ]
    },
    {
     "name": "stderr",
     "output_type": "stream",
     "text": [
      " 66%|█████████████████████████████████████████████████████▏                          | 133/200 [21:17<11:36, 10.40s/it]"
     ]
    },
    {
     "name": "stdout",
     "output_type": "stream",
     "text": [
      "loss:0.8901922106742859 val accuracy: 0.5555555555555556\n",
      "-------------------------------------------\n",
      "epoch:134\n"
     ]
    },
    {
     "name": "stderr",
     "output_type": "stream",
     "text": [
      " 67%|█████████████████████████████████████████████████████▌                          | 134/200 [21:26<11:09, 10.15s/it]"
     ]
    },
    {
     "name": "stdout",
     "output_type": "stream",
     "text": [
      "loss:0.6076425313949585 val accuracy: 0.5\n",
      "-------------------------------------------\n",
      "epoch:135\n"
     ]
    },
    {
     "name": "stderr",
     "output_type": "stream",
     "text": [
      " 68%|██████████████████████████████████████████████████████                          | 135/200 [21:35<10:35,  9.78s/it]"
     ]
    },
    {
     "name": "stdout",
     "output_type": "stream",
     "text": [
      "loss:0.657688319683075 val accuracy: 0.5208333333333334\n",
      "-------------------------------------------\n",
      "epoch:136\n"
     ]
    },
    {
     "name": "stderr",
     "output_type": "stream",
     "text": [
      " 68%|██████████████████████████████████████████████████████▍                         | 136/200 [21:43<09:47,  9.17s/it]"
     ]
    },
    {
     "name": "stdout",
     "output_type": "stream",
     "text": [
      "loss:0.6756954193115234 val accuracy: 0.4930555555555556\n",
      "-------------------------------------------\n",
      "epoch:137\n"
     ]
    },
    {
     "name": "stderr",
     "output_type": "stream",
     "text": [
      " 68%|██████████████████████████████████████████████████████▊                         | 137/200 [21:54<10:07,  9.65s/it]"
     ]
    },
    {
     "name": "stdout",
     "output_type": "stream",
     "text": [
      "loss:0.697672963142395 val accuracy: 0.4791666666666667\n",
      "-------------------------------------------\n",
      "epoch:138\n"
     ]
    },
    {
     "name": "stderr",
     "output_type": "stream",
     "text": [
      " 69%|███████████████████████████████████████████████████████▏                        | 138/200 [22:03<09:51,  9.53s/it]"
     ]
    },
    {
     "name": "stdout",
     "output_type": "stream",
     "text": [
      "loss:0.908460259437561 val accuracy: 0.4861111111111111\n",
      "-------------------------------------------\n",
      "epoch:139\n"
     ]
    },
    {
     "name": "stderr",
     "output_type": "stream",
     "text": [
      " 70%|███████████████████████████████████████████████████████▌                        | 139/200 [22:13<09:58,  9.81s/it]"
     ]
    },
    {
     "name": "stdout",
     "output_type": "stream",
     "text": [
      "loss:0.7943257689476013 val accuracy: 0.4722222222222222\n",
      "-------------------------------------------\n",
      "epoch:140\n"
     ]
    },
    {
     "name": "stderr",
     "output_type": "stream",
     "text": [
      " 70%|████████████████████████████████████████████████████████                        | 140/200 [22:23<09:44,  9.74s/it]"
     ]
    },
    {
     "name": "stdout",
     "output_type": "stream",
     "text": [
      "loss:0.8801019191741943 val accuracy: 0.4513888888888889\n",
      "-------------------------------------------\n",
      "epoch:141\n"
     ]
    },
    {
     "name": "stderr",
     "output_type": "stream",
     "text": [
      " 70%|████████████████████████████████████████████████████████▍                       | 141/200 [22:33<09:40,  9.85s/it]"
     ]
    },
    {
     "name": "stdout",
     "output_type": "stream",
     "text": [
      "loss:0.7223447561264038 val accuracy: 0.5416666666666666\n",
      "-------------------------------------------\n",
      "epoch:142\n"
     ]
    },
    {
     "name": "stderr",
     "output_type": "stream",
     "text": [
      " 71%|████████████████████████████████████████████████████████▊                       | 142/200 [22:41<09:02,  9.36s/it]"
     ]
    },
    {
     "name": "stdout",
     "output_type": "stream",
     "text": [
      "loss:0.7773869037628174 val accuracy: 0.4444444444444444\n",
      "-------------------------------------------\n",
      "epoch:143\n"
     ]
    },
    {
     "name": "stderr",
     "output_type": "stream",
     "text": [
      " 72%|█████████████████████████████████████████████████████████▏                      | 143/200 [22:52<09:13,  9.71s/it]"
     ]
    },
    {
     "name": "stdout",
     "output_type": "stream",
     "text": [
      "loss:0.568592369556427 val accuracy: 0.5\n",
      "-------------------------------------------\n",
      "epoch:144\n"
     ]
    },
    {
     "name": "stderr",
     "output_type": "stream",
     "text": [
      " 72%|█████████████████████████████████████████████████████████▌                      | 144/200 [23:01<08:48,  9.43s/it]"
     ]
    },
    {
     "name": "stdout",
     "output_type": "stream",
     "text": [
      "loss:0.4846373498439789 val accuracy: 0.4444444444444444\n",
      "-------------------------------------------\n",
      "epoch:145\n"
     ]
    },
    {
     "name": "stderr",
     "output_type": "stream",
     "text": [
      " 72%|██████████████████████████████████████████████████████████                      | 145/200 [23:11<08:48,  9.62s/it]"
     ]
    },
    {
     "name": "stdout",
     "output_type": "stream",
     "text": [
      "loss:0.5796635746955872 val accuracy: 0.4444444444444444\n",
      "-------------------------------------------\n",
      "epoch:146\n"
     ]
    },
    {
     "name": "stderr",
     "output_type": "stream",
     "text": [
      " 73%|██████████████████████████████████████████████████████████▍                     | 146/200 [23:22<08:59,  9.98s/it]"
     ]
    },
    {
     "name": "stdout",
     "output_type": "stream",
     "text": [
      "loss:0.7454875111579895 val accuracy: 0.5277777777777778\n",
      "-------------------------------------------\n",
      "epoch:147\n"
     ]
    },
    {
     "name": "stderr",
     "output_type": "stream",
     "text": [
      " 74%|██████████████████████████████████████████████████████████▊                     | 147/200 [23:30<08:22,  9.48s/it]"
     ]
    },
    {
     "name": "stdout",
     "output_type": "stream",
     "text": [
      "loss:0.7368980050086975 val accuracy: 0.4375\n",
      "-------------------------------------------\n",
      "epoch:148\n"
     ]
    },
    {
     "name": "stderr",
     "output_type": "stream",
     "text": [
      " 74%|███████████████████████████████████████████████████████████▏                    | 148/200 [23:39<08:05,  9.33s/it]"
     ]
    },
    {
     "name": "stdout",
     "output_type": "stream",
     "text": [
      "loss:0.7762781381607056 val accuracy: 0.5069444444444444\n",
      "-------------------------------------------\n",
      "epoch:149\n"
     ]
    },
    {
     "name": "stderr",
     "output_type": "stream",
     "text": [
      " 74%|███████████████████████████████████████████████████████████▌                    | 149/200 [23:49<08:02,  9.46s/it]"
     ]
    },
    {
     "name": "stdout",
     "output_type": "stream",
     "text": [
      "loss:0.5803067088127136 val accuracy: 0.5486111111111112\n",
      "-------------------------------------------\n",
      "epoch:150\n"
     ]
    },
    {
     "name": "stderr",
     "output_type": "stream",
     "text": [
      " 75%|████████████████████████████████████████████████████████████                    | 150/200 [23:58<07:46,  9.33s/it]"
     ]
    },
    {
     "name": "stdout",
     "output_type": "stream",
     "text": [
      "loss:0.7378690242767334 val accuracy: 0.4444444444444444\n",
      "-------------------------------------------\n",
      "epoch:151\n"
     ]
    },
    {
     "name": "stderr",
     "output_type": "stream",
     "text": [
      " 76%|████████████████████████████████████████████████████████████▍                   | 151/200 [24:06<07:27,  9.14s/it]"
     ]
    },
    {
     "name": "stdout",
     "output_type": "stream",
     "text": [
      "loss:0.584168016910553 val accuracy: 0.4861111111111111\n",
      "-------------------------------------------\n",
      "epoch:152\n"
     ]
    },
    {
     "name": "stderr",
     "output_type": "stream",
     "text": [
      " 76%|████████████████████████████████████████████████████████████▊                   | 152/200 [24:18<07:51,  9.81s/it]"
     ]
    },
    {
     "name": "stdout",
     "output_type": "stream",
     "text": [
      "loss:0.7688193917274475 val accuracy: 0.5486111111111112\n",
      "-------------------------------------------\n",
      "epoch:153\n"
     ]
    },
    {
     "name": "stderr",
     "output_type": "stream",
     "text": [
      " 76%|█████████████████████████████████████████████████████████████▏                  | 153/200 [24:28<07:41,  9.83s/it]"
     ]
    },
    {
     "name": "stdout",
     "output_type": "stream",
     "text": [
      "loss:1.0112409591674805 val accuracy: 0.4930555555555556\n",
      "-------------------------------------------\n",
      "epoch:154\n"
     ]
    },
    {
     "name": "stderr",
     "output_type": "stream",
     "text": [
      " 77%|█████████████████████████████████████████████████████████████▌                  | 154/200 [24:37<07:31,  9.81s/it]"
     ]
    },
    {
     "name": "stdout",
     "output_type": "stream",
     "text": [
      "loss:0.5084705352783203 val accuracy: 0.4513888888888889\n",
      "-------------------------------------------\n",
      "epoch:155\n"
     ]
    },
    {
     "name": "stderr",
     "output_type": "stream",
     "text": [
      " 78%|██████████████████████████████████████████████████████████████                  | 155/200 [24:46<06:59,  9.33s/it]"
     ]
    },
    {
     "name": "stdout",
     "output_type": "stream",
     "text": [
      "loss:0.5643131136894226 val accuracy: 0.5138888888888888\n",
      "-------------------------------------------\n",
      "epoch:156\n"
     ]
    },
    {
     "name": "stderr",
     "output_type": "stream",
     "text": [
      " 78%|██████████████████████████████████████████████████████████████▍                 | 156/200 [24:53<06:29,  8.84s/it]"
     ]
    },
    {
     "name": "stdout",
     "output_type": "stream",
     "text": [
      "loss:0.50767582654953 val accuracy: 0.5138888888888888\n",
      "-------------------------------------------\n",
      "epoch:157\n"
     ]
    },
    {
     "name": "stderr",
     "output_type": "stream",
     "text": [
      " 78%|██████████████████████████████████████████████████████████████▊                 | 157/200 [25:00<05:52,  8.21s/it]"
     ]
    },
    {
     "name": "stdout",
     "output_type": "stream",
     "text": [
      "loss:0.5758776068687439 val accuracy: 0.4791666666666667\n",
      "-------------------------------------------\n",
      "epoch:158\n"
     ]
    },
    {
     "name": "stderr",
     "output_type": "stream",
     "text": [
      " 79%|███████████████████████████████████████████████████████████████▏                | 158/200 [25:09<05:52,  8.39s/it]"
     ]
    },
    {
     "name": "stdout",
     "output_type": "stream",
     "text": [
      "loss:0.5425041317939758 val accuracy: 0.4861111111111111\n",
      "-------------------------------------------\n",
      "epoch:159\n"
     ]
    },
    {
     "name": "stderr",
     "output_type": "stream",
     "text": [
      " 80%|███████████████████████████████████████████████████████████████▌                | 159/200 [25:16<05:33,  8.13s/it]"
     ]
    },
    {
     "name": "stdout",
     "output_type": "stream",
     "text": [
      "loss:0.6370646953582764 val accuracy: 0.5138888888888888\n",
      "-------------------------------------------\n",
      "epoch:160\n"
     ]
    },
    {
     "name": "stderr",
     "output_type": "stream",
     "text": [
      " 80%|████████████████████████████████████████████████████████████████                | 160/200 [25:26<05:38,  8.47s/it]"
     ]
    },
    {
     "name": "stdout",
     "output_type": "stream",
     "text": [
      "loss:0.48714587092399597 val accuracy: 0.5208333333333334\n",
      "-------------------------------------------\n",
      "epoch:161\n"
     ]
    },
    {
     "name": "stderr",
     "output_type": "stream",
     "text": [
      " 80%|████████████████████████████████████████████████████████████████▍               | 161/200 [25:34<05:27,  8.40s/it]"
     ]
    },
    {
     "name": "stdout",
     "output_type": "stream",
     "text": [
      "loss:0.5172892212867737 val accuracy: 0.4791666666666667\n",
      "-------------------------------------------\n",
      "epoch:162\n"
     ]
    },
    {
     "name": "stderr",
     "output_type": "stream",
     "text": [
      " 81%|████████████████████████████████████████████████████████████████▊               | 162/200 [25:42<05:22,  8.48s/it]"
     ]
    },
    {
     "name": "stdout",
     "output_type": "stream",
     "text": [
      "loss:0.48023322224617004 val accuracy: 0.5\n",
      "-------------------------------------------\n",
      "epoch:163\n"
     ]
    },
    {
     "name": "stderr",
     "output_type": "stream",
     "text": [
      " 82%|█████████████████████████████████████████████████████████████████▏              | 163/200 [25:53<05:37,  9.13s/it]"
     ]
    },
    {
     "name": "stdout",
     "output_type": "stream",
     "text": [
      "loss:0.6037644147872925 val accuracy: 0.4513888888888889\n",
      "-------------------------------------------\n",
      "epoch:164\n"
     ]
    },
    {
     "name": "stderr",
     "output_type": "stream",
     "text": [
      " 82%|█████████████████████████████████████████████████████████████████▌              | 164/200 [26:03<05:32,  9.24s/it]"
     ]
    },
    {
     "name": "stdout",
     "output_type": "stream",
     "text": [
      "loss:0.5907871723175049 val accuracy: 0.4791666666666667\n",
      "-------------------------------------------\n",
      "epoch:165\n"
     ]
    },
    {
     "name": "stderr",
     "output_type": "stream",
     "text": [
      " 82%|██████████████████████████████████████████████████████████████████              | 165/200 [26:11<05:16,  9.03s/it]"
     ]
    },
    {
     "name": "stdout",
     "output_type": "stream",
     "text": [
      "loss:0.5658488869667053 val accuracy: 0.5\n",
      "-------------------------------------------\n",
      "epoch:166\n"
     ]
    },
    {
     "name": "stderr",
     "output_type": "stream",
     "text": [
      " 83%|██████████████████████████████████████████████████████████████████▍             | 166/200 [26:20<05:09,  9.09s/it]"
     ]
    },
    {
     "name": "stdout",
     "output_type": "stream",
     "text": [
      "loss:0.4636133909225464 val accuracy: 0.4861111111111111\n",
      "-------------------------------------------\n",
      "epoch:167\n"
     ]
    },
    {
     "name": "stderr",
     "output_type": "stream",
     "text": [
      " 84%|██████████████████████████████████████████████████████████████████▊             | 167/200 [26:31<05:19,  9.67s/it]"
     ]
    },
    {
     "name": "stdout",
     "output_type": "stream",
     "text": [
      "loss:0.5336548686027527 val accuracy: 0.5138888888888888\n",
      "-------------------------------------------\n",
      "epoch:168\n"
     ]
    },
    {
     "name": "stderr",
     "output_type": "stream",
     "text": [
      " 84%|███████████████████████████████████████████████████████████████████▏            | 168/200 [26:42<05:17,  9.93s/it]"
     ]
    },
    {
     "name": "stdout",
     "output_type": "stream",
     "text": [
      "loss:0.43563687801361084 val accuracy: 0.5347222222222222\n",
      "-------------------------------------------\n",
      "epoch:169\n"
     ]
    },
    {
     "name": "stderr",
     "output_type": "stream",
     "text": [
      " 84%|███████████████████████████████████████████████████████████████████▌            | 169/200 [26:52<05:05,  9.85s/it]"
     ]
    },
    {
     "name": "stdout",
     "output_type": "stream",
     "text": [
      "loss:0.5125735998153687 val accuracy: 0.5625\n",
      "-------------------------------------------\n",
      "epoch:170\n"
     ]
    },
    {
     "name": "stderr",
     "output_type": "stream",
     "text": [
      " 85%|████████████████████████████████████████████████████████████████████            | 170/200 [27:03<05:08, 10.28s/it]"
     ]
    },
    {
     "name": "stdout",
     "output_type": "stream",
     "text": [
      "loss:0.5172945261001587 val accuracy: 0.5486111111111112\n",
      "-------------------------------------------\n",
      "epoch:171\n"
     ]
    },
    {
     "name": "stderr",
     "output_type": "stream",
     "text": [
      " 86%|████████████████████████████████████████████████████████████████████▍           | 171/200 [27:13<04:58, 10.30s/it]"
     ]
    },
    {
     "name": "stdout",
     "output_type": "stream",
     "text": [
      "loss:0.48160669207572937 val accuracy: 0.5\n",
      "-------------------------------------------\n",
      "epoch:172\n"
     ]
    },
    {
     "name": "stderr",
     "output_type": "stream",
     "text": [
      " 86%|████████████████████████████████████████████████████████████████████▊           | 172/200 [27:23<04:39,  9.99s/it]"
     ]
    },
    {
     "name": "stdout",
     "output_type": "stream",
     "text": [
      "loss:0.656029999256134 val accuracy: 0.4930555555555556\n",
      "-------------------------------------------\n",
      "epoch:173\n"
     ]
    },
    {
     "name": "stderr",
     "output_type": "stream",
     "text": [
      " 86%|█████████████████████████████████████████████████████████████████████▏          | 173/200 [27:33<04:34, 10.18s/it]"
     ]
    },
    {
     "name": "stdout",
     "output_type": "stream",
     "text": [
      "loss:0.436484158039093 val accuracy: 0.5138888888888888\n",
      "-------------------------------------------\n",
      "epoch:174\n"
     ]
    },
    {
     "name": "stderr",
     "output_type": "stream",
     "text": [
      " 87%|█████████████████████████████████████████████████████████████████████▌          | 174/200 [27:42<04:12,  9.72s/it]"
     ]
    },
    {
     "name": "stdout",
     "output_type": "stream",
     "text": [
      "loss:0.46283844113349915 val accuracy: 0.4861111111111111\n",
      "-------------------------------------------\n",
      "epoch:175\n"
     ]
    },
    {
     "name": "stderr",
     "output_type": "stream",
     "text": [
      " 88%|██████████████████████████████████████████████████████████████████████          | 175/200 [27:51<03:57,  9.51s/it]"
     ]
    },
    {
     "name": "stdout",
     "output_type": "stream",
     "text": [
      "loss:0.46474727988243103 val accuracy: 0.5763888888888888\n",
      "-------------------------------------------\n",
      "epoch:176\n"
     ]
    },
    {
     "name": "stderr",
     "output_type": "stream",
     "text": [
      " 88%|██████████████████████████████████████████████████████████████████████▍         | 176/200 [28:01<03:54,  9.79s/it]"
     ]
    },
    {
     "name": "stdout",
     "output_type": "stream",
     "text": [
      "loss:0.40955373644828796 val accuracy: 0.5486111111111112\n",
      "-------------------------------------------\n",
      "epoch:177\n"
     ]
    },
    {
     "name": "stderr",
     "output_type": "stream",
     "text": [
      " 88%|██████████████████████████████████████████████████████████████████████▊         | 177/200 [28:09<03:34,  9.31s/it]"
     ]
    },
    {
     "name": "stdout",
     "output_type": "stream",
     "text": [
      "loss:0.5568205714225769 val accuracy: 0.4652777777777778\n",
      "-------------------------------------------\n",
      "epoch:178\n"
     ]
    },
    {
     "name": "stderr",
     "output_type": "stream",
     "text": [
      " 89%|███████████████████████████████████████████████████████████████████████▏        | 178/200 [28:19<03:27,  9.43s/it]"
     ]
    },
    {
     "name": "stdout",
     "output_type": "stream",
     "text": [
      "loss:0.5585615038871765 val accuracy: 0.4583333333333333\n",
      "-------------------------------------------\n",
      "epoch:179\n"
     ]
    },
    {
     "name": "stderr",
     "output_type": "stream",
     "text": [
      " 90%|███████████████████████████████████████████████████████████████████████▌        | 179/200 [28:31<03:31, 10.09s/it]"
     ]
    },
    {
     "name": "stdout",
     "output_type": "stream",
     "text": [
      "loss:0.6060724258422852 val accuracy: 0.5347222222222222\n",
      "-------------------------------------------\n",
      "epoch:180\n"
     ]
    },
    {
     "name": "stderr",
     "output_type": "stream",
     "text": [
      " 90%|████████████████████████████████████████████████████████████████████████        | 180/200 [28:41<03:22, 10.13s/it]"
     ]
    },
    {
     "name": "stdout",
     "output_type": "stream",
     "text": [
      "loss:0.7184820771217346 val accuracy: 0.5069444444444444\n",
      "-------------------------------------------\n",
      "epoch:181\n"
     ]
    },
    {
     "name": "stderr",
     "output_type": "stream",
     "text": [
      " 90%|████████████████████████████████████████████████████████████████████████▍       | 181/200 [28:52<03:14, 10.24s/it]"
     ]
    },
    {
     "name": "stdout",
     "output_type": "stream",
     "text": [
      "loss:0.3280864953994751 val accuracy: 0.5555555555555556\n",
      "-------------------------------------------\n",
      "epoch:182\n"
     ]
    },
    {
     "name": "stderr",
     "output_type": "stream",
     "text": [
      " 91%|████████████████████████████████████████████████████████████████████████▊       | 182/200 [29:02<03:04, 10.22s/it]"
     ]
    },
    {
     "name": "stdout",
     "output_type": "stream",
     "text": [
      "loss:0.3939811587333679 val accuracy: 0.4861111111111111\n",
      "-------------------------------------------\n",
      "epoch:183\n"
     ]
    },
    {
     "name": "stderr",
     "output_type": "stream",
     "text": [
      " 92%|█████████████████████████████████████████████████████████████████████████▏      | 183/200 [29:12<02:51, 10.11s/it]"
     ]
    },
    {
     "name": "stdout",
     "output_type": "stream",
     "text": [
      "loss:0.5256964564323425 val accuracy: 0.5208333333333334\n",
      "-------------------------------------------\n",
      "epoch:184\n"
     ]
    },
    {
     "name": "stderr",
     "output_type": "stream",
     "text": [
      " 92%|█████████████████████████████████████████████████████████████████████████▌      | 184/200 [29:21<02:39,  9.95s/it]"
     ]
    },
    {
     "name": "stdout",
     "output_type": "stream",
     "text": [
      "loss:0.48605409264564514 val accuracy: 0.5208333333333334\n",
      "-------------------------------------------\n",
      "epoch:185\n"
     ]
    },
    {
     "name": "stderr",
     "output_type": "stream",
     "text": [
      " 92%|██████████████████████████████████████████████████████████████████████████      | 185/200 [29:30<02:22,  9.53s/it]"
     ]
    },
    {
     "name": "stdout",
     "output_type": "stream",
     "text": [
      "loss:0.34734123945236206 val accuracy: 0.5208333333333334\n",
      "-------------------------------------------\n",
      "epoch:186\n"
     ]
    },
    {
     "name": "stderr",
     "output_type": "stream",
     "text": [
      " 93%|██████████████████████████████████████████████████████████████████████████▍     | 186/200 [29:39<02:14,  9.59s/it]"
     ]
    },
    {
     "name": "stdout",
     "output_type": "stream",
     "text": [
      "loss:0.36062681674957275 val accuracy: 0.5347222222222222\n",
      "-------------------------------------------\n",
      "epoch:187\n"
     ]
    },
    {
     "name": "stderr",
     "output_type": "stream",
     "text": [
      " 94%|██████████████████████████████████████████████████████████████████████████▊     | 187/200 [29:48<02:01,  9.33s/it]"
     ]
    },
    {
     "name": "stdout",
     "output_type": "stream",
     "text": [
      "loss:0.501745343208313 val accuracy: 0.5416666666666666\n",
      "-------------------------------------------\n",
      "epoch:188\n"
     ]
    },
    {
     "name": "stderr",
     "output_type": "stream",
     "text": [
      " 94%|███████████████████████████████████████████████████████████████████████████▏    | 188/200 [29:58<01:54,  9.56s/it]"
     ]
    },
    {
     "name": "stdout",
     "output_type": "stream",
     "text": [
      "loss:0.45765063166618347 val accuracy: 0.5208333333333334\n",
      "-------------------------------------------\n",
      "epoch:189\n"
     ]
    },
    {
     "name": "stderr",
     "output_type": "stream",
     "text": [
      " 94%|███████████████████████████████████████████████████████████████████████████▌    | 189/200 [30:08<01:45,  9.57s/it]"
     ]
    },
    {
     "name": "stdout",
     "output_type": "stream",
     "text": [
      "loss:0.30063438415527344 val accuracy: 0.5069444444444444\n",
      "-------------------------------------------\n",
      "epoch:190\n"
     ]
    },
    {
     "name": "stderr",
     "output_type": "stream",
     "text": [
      " 95%|████████████████████████████████████████████████████████████████████████████    | 190/200 [30:17<01:35,  9.58s/it]"
     ]
    },
    {
     "name": "stdout",
     "output_type": "stream",
     "text": [
      "loss:0.5645580291748047 val accuracy: 0.4861111111111111\n",
      "-------------------------------------------\n",
      "epoch:191\n"
     ]
    },
    {
     "name": "stderr",
     "output_type": "stream",
     "text": [
      " 96%|████████████████████████████████████████████████████████████████████████████▍   | 191/200 [30:25<01:21,  9.06s/it]"
     ]
    },
    {
     "name": "stdout",
     "output_type": "stream",
     "text": [
      "loss:0.41708990931510925 val accuracy: 0.5138888888888888\n",
      "-------------------------------------------\n",
      "epoch:192\n"
     ]
    },
    {
     "name": "stderr",
     "output_type": "stream",
     "text": [
      " 96%|████████████████████████████████████████████████████████████████████████████▊   | 192/200 [30:35<01:13,  9.15s/it]"
     ]
    },
    {
     "name": "stdout",
     "output_type": "stream",
     "text": [
      "loss:0.3214802145957947 val accuracy: 0.4930555555555556\n",
      "-------------------------------------------\n",
      "epoch:193\n"
     ]
    },
    {
     "name": "stderr",
     "output_type": "stream",
     "text": [
      " 96%|█████████████████████████████████████████████████████████████████████████████▏  | 193/200 [30:44<01:03,  9.10s/it]"
     ]
    },
    {
     "name": "stdout",
     "output_type": "stream",
     "text": [
      "loss:0.7238383293151855 val accuracy: 0.4722222222222222\n",
      "-------------------------------------------\n",
      "epoch:194\n"
     ]
    },
    {
     "name": "stderr",
     "output_type": "stream",
     "text": [
      " 97%|█████████████████████████████████████████████████████████████████████████████▌  | 194/200 [30:53<00:54,  9.11s/it]"
     ]
    },
    {
     "name": "stdout",
     "output_type": "stream",
     "text": [
      "loss:0.5489867329597473 val accuracy: 0.5277777777777778\n",
      "-------------------------------------------\n",
      "epoch:195\n"
     ]
    },
    {
     "name": "stderr",
     "output_type": "stream",
     "text": [
      " 98%|██████████████████████████████████████████████████████████████████████████████  | 195/200 [31:02<00:46,  9.27s/it]"
     ]
    },
    {
     "name": "stdout",
     "output_type": "stream",
     "text": [
      "loss:0.2690444886684418 val accuracy: 0.5972222222222222\n",
      "-------------------------------------------\n",
      "epoch:196\n"
     ]
    },
    {
     "name": "stderr",
     "output_type": "stream",
     "text": [
      " 98%|██████████████████████████████████████████████████████████████████████████████▍ | 196/200 [31:11<00:36,  9.20s/it]"
     ]
    },
    {
     "name": "stdout",
     "output_type": "stream",
     "text": [
      "loss:0.2807261645793915 val accuracy: 0.6111111111111112\n",
      "-------------------------------------------\n",
      "epoch:197\n"
     ]
    },
    {
     "name": "stderr",
     "output_type": "stream",
     "text": [
      " 98%|██████████████████████████████████████████████████████████████████████████████▊ | 197/200 [31:20<00:27,  9.11s/it]"
     ]
    },
    {
     "name": "stdout",
     "output_type": "stream",
     "text": [
      "loss:0.513166606426239 val accuracy: 0.4930555555555556\n",
      "-------------------------------------------\n",
      "epoch:198\n"
     ]
    },
    {
     "name": "stderr",
     "output_type": "stream",
     "text": [
      " 99%|███████████████████████████████████████████████████████████████████████████████▏| 198/200 [31:30<00:18,  9.21s/it]"
     ]
    },
    {
     "name": "stdout",
     "output_type": "stream",
     "text": [
      "loss:0.5892530083656311 val accuracy: 0.5416666666666666\n",
      "-------------------------------------------\n",
      "epoch:199\n"
     ]
    },
    {
     "name": "stderr",
     "output_type": "stream",
     "text": [
      "100%|███████████████████████████████████████████████████████████████████████████████▌| 199/200 [31:39<00:09,  9.26s/it]"
     ]
    },
    {
     "name": "stdout",
     "output_type": "stream",
     "text": [
      "loss:0.44052186608314514 val accuracy: 0.4930555555555556\n",
      "-------------------------------------------\n",
      "epoch:200\n"
     ]
    },
    {
     "name": "stderr",
     "output_type": "stream",
     "text": [
      "100%|████████████████████████████████████████████████████████████████████████████████| 200/200 [31:51<00:00,  9.56s/it]"
     ]
    },
    {
     "name": "stdout",
     "output_type": "stream",
     "text": [
      "loss:0.476376473903656 val accuracy: 0.5069444444444444\n",
      "-------------------------------------------\n",
      "Finished Training\n"
     ]
    },
    {
     "name": "stderr",
     "output_type": "stream",
     "text": [
      "\n"
     ]
    }
   ],
   "source": [
    "dataloader = DataLoader(english_dataset[\"train\"].with_format(\"torch\"), batch_size=32)\n",
    "\n",
    "val = english_dataset[\"val\"].with_format('torch')\n",
    "device = torch.device('cuda:0')\n",
    "model = CNN(1,8)\n",
    "model.to(device)\n",
    "optimizer = torch.optim.Adam(model.parameters(), lr=0.001)\n",
    "loss_fn = torch.nn.CrossEntropyLoss()\n",
    "torch.cuda.is_available()\n",
    "train(model,dataloader,loss_fn,optimizer,device,200)"
   ]
  },
  {
   "cell_type": "code",
   "execution_count": 10,
   "id": "75598824-5f9e-4dfc-87c3-1b950bc76f77",
   "metadata": {},
   "outputs": [],
   "source": [
    "test = english_dataset[\"test\"].with_format(\"torch\")"
   ]
  },
  {
   "cell_type": "code",
   "execution_count": 12,
   "id": "54b71771-3b6c-46ec-b1e0-20dd3ebf65e2",
   "metadata": {},
   "outputs": [],
   "source": [
    "preds = model(test[\"mfcc\"].to(device))\n",
    "labels = test[\"label\"].to(device)"
   ]
  },
  {
   "cell_type": "code",
   "execution_count": null,
   "id": "4f55f84c-eb56-4745-b575-7fc40007c20c",
   "metadata": {},
   "outputs": [],
   "source": []
  },
  {
   "cell_type": "code",
   "execution_count": 13,
   "id": "2c21b228-265a-4c34-bad7-32e72fe18568",
   "metadata": {},
   "outputs": [
    {
     "name": "stdout",
     "output_type": "stream",
     "text": [
      "tensor([[ -0.6741,  -8.3026,   5.8219,  ...,   0.0358, -11.6334,   5.8354],\n",
      "        [  6.9167,  -3.8829,  -1.4376,  ...,  -8.5275,  -7.7291,  -2.3084],\n",
      "        [ -4.9443,   0.4118,  -9.3072,  ...,  -1.2421,   7.0542,  -1.1888],\n",
      "        ...,\n",
      "        [  3.8564,  -2.1328, -14.6332,  ..., -11.3974,   0.6652,   0.5869],\n",
      "        [  3.0524,  -4.3108,  12.4182,  ...,  -1.2712, -10.2992,  -1.6724],\n",
      "        [  5.8812,   1.9993,  -4.7878,  ...,  -5.2116,  -1.1740,   2.2895]],\n",
      "       device='cuda:0', grad_fn=<AddmmBackward0>)\n"
     ]
    }
   ],
   "source": [
    "print(preds)"
   ]
  },
  {
   "cell_type": "code",
   "execution_count": 15,
   "id": "9c67c796-94b4-4b79-8658-d87c897a9b76",
   "metadata": {},
   "outputs": [
    {
     "name": "stdout",
     "output_type": "stream",
     "text": [
      "tensor([7, 4, 4, 0, 2, 5, 7, 2, 7, 6, 2, 4, 3, 0, 3, 1, 6, 1, 3, 6, 1, 4, 4, 3,\n",
      "        3, 5, 2, 7, 7, 2, 3, 6, 6, 7, 1, 6, 4, 0, 1, 7, 1, 3, 2, 2, 4, 7, 7, 3,\n",
      "        0, 3, 2, 3, 7, 7, 7, 3, 3, 7, 7, 0, 0, 7, 7, 6, 5, 3, 2, 5, 6, 7, 3, 1,\n",
      "        4, 5, 4, 4, 6, 7, 7, 4, 4, 4, 6, 0, 4, 2, 4, 6, 4, 7, 6, 5, 3, 4, 0, 0,\n",
      "        7, 0, 4, 2, 7, 3, 6, 4, 3, 4, 0, 0, 1, 4, 3, 1, 3, 4, 5, 0, 3, 7, 0, 7,\n",
      "        5, 6, 3, 2, 4, 1, 1, 4, 2, 1, 3, 0, 5, 4, 4, 7, 6, 5, 3, 4, 6, 3, 2, 7],\n",
      "       device='cuda:0') 0.6041666666666666\n"
     ]
    }
   ],
   "source": [
    "\n",
    "predicted, acc =  model.predict(test[\"mfcc\"], labels, device)\n",
    "\n",
    "print(predicted, acc)\n"
   ]
  },
  {
   "cell_type": "code",
   "execution_count": null,
   "id": "27c3e1ef-6d3a-49ac-9d1f-22844e00f833",
   "metadata": {},
   "outputs": [],
   "source": []
  },
  {
   "cell_type": "code",
   "execution_count": null,
   "id": "ebf55b15-9aa9-465d-b1e8-746ec30b6943",
   "metadata": {},
   "outputs": [],
   "source": []
  },
  {
   "cell_type": "code",
   "execution_count": null,
   "id": "c88a27ea-97ef-4d35-b125-b0448c16a552",
   "metadata": {},
   "outputs": [],
   "source": []
  }
 ],
 "metadata": {
  "kernelspec": {
   "display_name": "Python 3 (ipykernel)",
   "language": "python",
   "name": "python3"
  },
  "language_info": {
   "codemirror_mode": {
    "name": "ipython",
    "version": 3
   },
   "file_extension": ".py",
   "mimetype": "text/x-python",
   "name": "python",
   "nbconvert_exporter": "python",
   "pygments_lexer": "ipython3",
   "version": "3.12.2"
  }
 },
 "nbformat": 4,
 "nbformat_minor": 5
}
